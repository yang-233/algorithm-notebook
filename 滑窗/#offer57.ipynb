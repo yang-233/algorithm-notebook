{
 "cells": [
  {
   "cell_type": "code",
   "execution_count": 1,
   "metadata": {},
   "outputs": [
    {
     "ename": "SyntaxError",
     "evalue": "invalid syntax (<ipython-input-1-e366fca929ce>, line 2)",
     "output_type": "error",
     "traceback": [
      "\u001b[0;36m  File \u001b[0;32m\"<ipython-input-1-e366fca929ce>\"\u001b[0;36m, line \u001b[0;32m2\u001b[0m\n\u001b[0;31m    dendContinuousSequence(self, target: int) -> List[List[int]]:\u001b[0m\n\u001b[0m                                       ^\u001b[0m\n\u001b[0;31mSyntaxError\u001b[0m\u001b[0;31m:\u001b[0m invalid syntax\n"
     ]
    }
   ],
   "source": [
    "class Solution:\n",
    "    dendContinuousSequence(self, target: int) -> List[List[int]]:\n",
    "        return self.slide_window(target)\n",
    "        if target <= 2:\n",
    "            return []\n",
    "        _sum = 0\n",
    "        s = {0 : 0} # 不要忘了 0\n",
    "        res = []\n",
    "        for i in range(1, target // 2 + 2):\n",
    "            _sum += i\n",
    "            s[_sum] = i\n",
    "            if (_sum - target) in s:\n",
    "                res.append(list(range(s[_sum - target] + 1, i + 1)))\n",
    "        return res\n",
    "    \n",
    "    def slide_window(self, target: int):\n",
    "        if target <= 2:\n",
    "            return []\n",
    "        _sum = [0]\n",
    "        for i in range(target):\n",
    "            _sum.append(i + _sum[-1])\n",
    "        res = []\n",
    "        l, r = 1, 2\n",
    "        while l < r:\n",
    "            val = _sum[r] - _sum[l - 1]\n",
    "            if val == target: # 找到一个可行解\n",
    "                res.append(list(range(max(1, l - 1), r))) \n",
    "                r += 1\n",
    "                l += 2\n",
    "            elif val < target:\n",
    "                r += 1\n",
    "            else:\n",
    "                l += 1\n",
    "        return res"
   ]
  },
  {
   "cell_type": "markdown",
   "metadata": {},
   "source": [
    "# 画图"
   ]
  },
  {
   "cell_type": "code",
   "execution_count": null,
   "metadata": {},
   "outputs": [],
   "source": []
  }
 ],
 "metadata": {
  "kernelspec": {
   "display_name": "Python 3",
   "language": "python",
   "name": "python3"
  },
  "language_info": {
   "codemirror_mode": {
    "name": "ipython",
    "version": 3
   },
   "file_extension": ".py",
   "mimetype": "text/x-python",
   "name": "python",
   "nbconvert_exporter": "python",
   "pygments_lexer": "ipython3",
   "version": "3.8.5"
  }
 },
 "nbformat": 4,
 "nbformat_minor": 4
}
