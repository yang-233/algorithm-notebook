{
 "cells": [
  {
   "cell_type": "code",
   "execution_count": 1,
   "metadata": {},
   "outputs": [],
   "source": [
    "from typing import *\n",
    "from functools import cmp_to_key"
   ]
  },
  {
   "cell_type": "code",
   "execution_count": 34,
   "metadata": {},
   "outputs": [],
   "source": [
    "class Solution:\n",
    "    def minNumber(self, nums: List[int]) -> str:\n",
    "        if not nums:\n",
    "            return None\n",
    "        str2int = dict((str(i), i) for i in range(10))\n",
    "        nums = list(map(str, nums))\n",
    "        def cmp(a, b):\n",
    "            _a = a + b\n",
    "            _b = b + a\n",
    "            for i, j in zip(_a, _b):\n",
    "                _i, _j = str2int[i], str2int[j]\n",
    "                if _i == _j:\n",
    "                    continue\n",
    "                return _i - _j\n",
    "            return 0\n",
    "        nums.sort(key=cmp_to_key(cmp))\n",
    "        return \"\".join(nums)\n",
    "s = Solution()"
   ]
  },
  {
   "cell_type": "code",
   "execution_count": 32,
   "metadata": {},
   "outputs": [
    {
     "data": {
      "text/plain": [
       "'3033459'"
      ]
     },
     "execution_count": 32,
     "metadata": {},
     "output_type": "execute_result"
    }
   ],
   "source": [
    "x = [3,30,34,5,9]\n",
    "s.minNumber(x)"
   ]
  },
  {
   "cell_type": "code",
   "execution_count": null,
   "metadata": {},
   "outputs": [],
   "source": []
  }
 ],
 "metadata": {
  "kernelspec": {
   "display_name": "Python 3",
   "language": "python",
   "name": "python3"
  },
  "language_info": {
   "codemirror_mode": {
    "name": "ipython",
    "version": 3
   },
   "file_extension": ".py",
   "mimetype": "text/x-python",
   "name": "python",
   "nbconvert_exporter": "python",
   "pygments_lexer": "ipython3",
   "version": "3.8.3"
  }
 },
 "nbformat": 4,
 "nbformat_minor": 4
}
