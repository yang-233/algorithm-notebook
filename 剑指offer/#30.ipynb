{
 "cells": [
  {
   "cell_type": "markdown",
   "metadata": {},
   "source": [
    "## 额外维护一个单调不增的栈即可"
   ]
  },
  {
   "cell_type": "code",
   "execution_count": 1,
   "metadata": {},
   "outputs": [],
   "source": [
    "class MinStack:\n",
    "\n",
    "    def __init__(self):\n",
    "        \"\"\"\n",
    "        initialize your data structure here.\n",
    "        \"\"\"\n",
    "        self.st = [[], []]\n",
    "        self.last = [] # 记录当前元素上一个元素在 单调栈 还是非单调栈中\n",
    "        self.where = 0\n",
    "        self.size = 0\n",
    "\n",
    "    def push(self, x: int) -> None:\n",
    "        if self.size == 0 or self.st[0][-1] >= x: # 单调栈为空 或者单调栈栈顶比当前元素还大 则加入到单调栈中\n",
    "            self.st[0].append(x)\n",
    "            self.last.append(self.where) # 记录下上一个指针的指向\n",
    "            self.where = 0 # 入的是单调栈\n",
    "        else:\n",
    "            self.st[1].append(x)\n",
    "            self.last.append(self.where)\n",
    "            self.where = 1\n",
    "        self.size += 1\n",
    "\n",
    "    def pop(self) -> None:\n",
    "        if self.size <= 0:\n",
    "            return\n",
    "        self.st[self.where].pop()\n",
    "        self.where = self.last[-1]\n",
    "        self.last.pop()\n",
    "        self.size -= 1\n",
    "\n",
    "    def top(self) -> int:\n",
    "        if self.size > 0:\n",
    "            return self.st[self.where][-1] # 返回栈顶\n",
    "\n",
    "    def min(self) -> int:\n",
    "        if self.size > 0:\n",
    "            return self.st[0][-1]\n",
    "\n",
    "\n",
    "\n",
    "# Your MinStack object will be instantiated and called as such:\n",
    "# obj = MinStack()\n",
    "# obj.push(x)\n",
    "# obj.pop()\n",
    "# param_3 = obj.top()\n",
    "# param_4 = obj.min()"
   ]
  },
  {
   "cell_type": "code",
   "execution_count": null,
   "metadata": {},
   "outputs": [],
   "source": []
  }
 ],
 "metadata": {
  "kernelspec": {
   "display_name": "Python 3",
   "language": "python",
   "name": "python3"
  },
  "language_info": {
   "codemirror_mode": {
    "name": "ipython",
    "version": 3
   },
   "file_extension": ".py",
   "mimetype": "text/x-python",
   "name": "python",
   "nbconvert_exporter": "python",
   "pygments_lexer": "ipython3",
   "version": "3.8.5"
  }
 },
 "nbformat": 4,
 "nbformat_minor": 4
}
