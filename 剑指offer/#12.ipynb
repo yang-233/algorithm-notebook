{
 "cells": [
  {
   "cell_type": "markdown",
   "metadata": {},
   "source": [
    "```\n",
    "class Solution {\n",
    "public:\n",
    "    void dfs(const vector<vector<char>>& board, const int n, const int m, const int i, const int j,\n",
    "            vector<vector<bool>>& visited, const string& word, const int len,\n",
    "            const int dep, bool& find) {\n",
    "        if(find || dep >= len) {\n",
    "            find = true;\n",
    "            return;\n",
    "        }\n",
    "        if(i >= 0 && i < n && j >= 0 && j < m && !visited[i][j] && word[dep] == board[i][j]) { // 进入函数之后 再来判断\n",
    "            visited[i][j] = true;\n",
    "            dfs(board, n, m, i - 1, j, visited, word, len, dep + 1, find); // 向上\n",
    "            dfs(board, n, m, i + 1, j, visited, word, len, dep + 1, find); // 向下\n",
    "            dfs(board, n, m, i, j - 1, visited, word, len, dep + 1, find); // 向左\n",
    "            dfs(board, n, m, i, j + 1, visited, word, len, dep + 1, find); // 向右\n",
    "            visited[i][j] = false;\n",
    "        }\n",
    "    }\n",
    "    bool exist(vector<vector<char>>& board, string word) {\n",
    "        int len = word.size();\n",
    "        if(len == 0)\n",
    "            return true;\n",
    "        int n = board.size();\n",
    "        if(n == 0)\n",
    "            return false;\n",
    "        int m = board[0].size();\n",
    "        if(m == 0)\n",
    "            return false;\n",
    "        vector<vector<bool>> visited(n, vector<bool>(m, false));\n",
    "        bool find = false;\n",
    "        for(int i = 0; i < n; i++) \n",
    "            for(int j = 0; j < m; j++) {\n",
    "                dfs(board, n, m, i, j, visited, word, len, 0, find);\n",
    "                if(find)\n",
    "                    return true;\n",
    "            }\n",
    "        return false;\n",
    "    }\n",
    "};\n",
    "```"
   ]
  },
  {
   "cell_type": "markdown",
   "metadata": {},
   "source": [
    "# 所有的判断最好都在dfs函数里面写 不要再进入函数之前写"
   ]
  },
  {
   "cell_type": "code",
   "execution_count": null,
   "metadata": {},
   "outputs": [],
   "source": []
  }
 ],
 "metadata": {
  "kernelspec": {
   "display_name": "Python 3",
   "language": "python",
   "name": "python3"
  },
  "language_info": {
   "codemirror_mode": {
    "name": "ipython",
    "version": 3
   },
   "file_extension": ".py",
   "mimetype": "text/x-python",
   "name": "python",
   "nbconvert_exporter": "python",
   "pygments_lexer": "ipython3",
   "version": "3.8.5"
  }
 },
 "nbformat": 4,
 "nbformat_minor": 4
}
