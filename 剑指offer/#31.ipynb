{
 "cells": [
  {
   "cell_type": "markdown",
   "metadata": {},
   "source": [
    "```\n",
    "class Solution {\n",
    "public:\n",
    "    bool validateStackSequences(vector<int>& pushed, vector<int>& popped) {\n",
    "        stack<int> st;\n",
    "        for(int i = 0, j = 0; i < popped.size(); ++i) {\n",
    "            while(j < pushed.size() && (st.empty() || st.top() != popped[i]))  // 一直进栈直到栈顶是出栈元素\n",
    "                st.push(pushed[j++]);\n",
    "            if(st.empty() || st.top() != popped[i])\n",
    "                return false;\n",
    "            else\n",
    "                st.pop();\n",
    "        }\n",
    "        return true;\n",
    "    }\n",
    "};\n",
    "```"
   ]
  },
  {
   "cell_type": "code",
   "execution_count": 1,
   "metadata": {},
   "outputs": [],
   "source": [
    "# 模拟大法好"
   ]
  },
  {
   "cell_type": "code",
   "execution_count": null,
   "metadata": {},
   "outputs": [],
   "source": []
  }
 ],
 "metadata": {
  "kernelspec": {
   "display_name": "Python 3",
   "language": "python",
   "name": "python3"
  },
  "language_info": {
   "codemirror_mode": {
    "name": "ipython",
    "version": 3
   },
   "file_extension": ".py",
   "mimetype": "text/x-python",
   "name": "python",
   "nbconvert_exporter": "python",
   "pygments_lexer": "ipython3",
   "version": "3.8.3"
  }
 },
 "nbformat": 4,
 "nbformat_minor": 4
}
