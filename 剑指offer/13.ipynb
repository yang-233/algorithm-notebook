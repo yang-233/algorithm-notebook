{
 "cells": [
  {
   "cell_type": "markdown",
   "metadata": {},
   "source": [
    "```\n",
    "class Solution {\n",
    "public:\n",
    "    int movingCount(int m, int n, int k) {\n",
    "        if(m < 1 || n < 1)\n",
    "            return 0;\n",
    "        const int MAX = 100; // 计算所有数的数位之和\n",
    "        int digits[MAX + 1];\n",
    "        for(int i = 0; i <= 9; i++) \n",
    "            for(int j = 0; j <= 9; j++) {\n",
    "                digits[i * 10 + j] = i + j;\n",
    "        }\n",
    "        digits[MAX] = 1;\n",
    "\n",
    "        // 接下来使用广搜\n",
    "        vector<vector<bool>> visited(m + 1, vector<bool>(n + 1, false));\n",
    "        queue<pair<int, int>> que;\n",
    "        que.push({0, 0});\n",
    "        int count = 0;\n",
    "        while(!que.empty()) {\n",
    "            pair<int, int> f = que.front();\n",
    "            que.pop();\n",
    "            if(f.first >= 0 && f.first < m && f.second >= 0 && f.second < n \n",
    "                && !visited[f.first][f.second] && digits[f.first] + digits[f.second] <= k) { // 位置合法\n",
    "                count++;\n",
    "                visited[f.first][f.second] = true; \n",
    "                que.push({f.first + 1, f.second}); // 事实上只需要向右和向下搜索即可\n",
    "                //que.push({f.first - 1, f.second});\n",
    "                que.push({f.first, f.second + 1});\n",
    "                //que.push({f.first, f.second - 1});\n",
    "            }\n",
    "        }\n",
    "        return count;\n",
    "    }\n",
    "};\n",
    "```"
   ]
  },
  {
   "cell_type": "code",
   "execution_count": null,
   "metadata": {},
   "outputs": [],
   "source": []
  }
 ],
 "metadata": {
  "kernelspec": {
   "display_name": "Python 3",
   "language": "python",
   "name": "python3"
  },
  "language_info": {
   "codemirror_mode": {
    "name": "ipython",
    "version": 3
   },
   "file_extension": ".py",
   "mimetype": "text/x-python",
   "name": "python",
   "nbconvert_exporter": "python",
   "pygments_lexer": "ipython3",
   "version": "3.8.5"
  }
 },
 "nbformat": 4,
 "nbformat_minor": 4
}
