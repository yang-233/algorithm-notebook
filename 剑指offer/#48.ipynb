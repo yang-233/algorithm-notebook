{
 "cells": [
  {
   "cell_type": "code",
   "execution_count": 1,
   "metadata": {},
   "outputs": [],
   "source": [
    "class Solution:\n",
    "    def lengthOfLongestSubstring(self, s: str) -> int:\n",
    "        if not s:\n",
    "            return 0\n",
    "        max_len = 0\n",
    "        n = len(s)\n",
    "        m = {}\n",
    "        l = r = 0\n",
    "        while r < n:\n",
    "            if s[r] in m and l <= m[s[r]]: # 这个字符已经出现过 注意后半部分\n",
    "                l = m[s[r]] + 1 # 移动左指针到没出现过它的位置\n",
    "        \n",
    "            max_len = max(max_len, r - l + 1) \n",
    "            # print(l, r, max_len)\n",
    "            m[s[r]] = r # 更新字符出现位置\n",
    "            r += 1 # 移动右指针\n",
    "        return max_len\n"
   ]
  },
  {
   "cell_type": "code",
   "execution_count": null,
   "metadata": {},
   "outputs": [],
   "source": []
  }
 ],
 "metadata": {
  "kernelspec": {
   "display_name": "Python 3",
   "language": "python",
   "name": "python3"
  },
  "language_info": {
   "codemirror_mode": {
    "name": "ipython",
    "version": 3
   },
   "file_extension": ".py",
   "mimetype": "text/x-python",
   "name": "python",
   "nbconvert_exporter": "python",
   "pygments_lexer": "ipython3",
   "version": "3.8.3"
  }
 },
 "nbformat": 4,
 "nbformat_minor": 4
}
