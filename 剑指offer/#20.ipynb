{
 "cells": [
  {
   "cell_type": "markdown",
   "metadata": {},
   "source": [
    "```\n",
    "class Solution {\n",
    "public:\n",
    "    bool scan_unsigned_int(const string& str, const int n, int& ptr) { // 扫描一个无符号整数并移动指针 返回是否是数字\n",
    "        int cur = ptr;\n",
    "        for(;ptr < n && str[ptr] >= '0' && str[ptr] <= '9'; ++ptr);\n",
    "        return ptr > cur;\n",
    "    }\n",
    "    bool scan_signed_int(const string& str, const int n, int& ptr) {// 扫描一个有符号整数并移动指针 返回是否是数字\n",
    "        if(str[ptr] == '+' || str[ptr] == '-')\n",
    "            ptr++;\n",
    "        return scan_unsigned_int(str, n, ptr);\n",
    "    }\n",
    "    bool isNumber(string s) {\n",
    "        if(s.empty())\n",
    "            return false;\n",
    "        int ptr = 0, n = s.size();\n",
    "        while(ptr < n && s[ptr] == ' ')++ptr; // 先跳过前置空格\n",
    "        if(ptr == n) // 空字符串\n",
    "            return false;\n",
    "        bool res = scan_signed_int(s, n, ptr); // 先扫描第一个带符号整数\n",
    "        if(ptr < n && s[ptr] == '.') { // 如果现在是小数点 扫描小数部分 小数部分必须是无符号整数\n",
    "            //res = res || scan_unsigned_int(s, n, ++ptr); 这个写法不行 因为逻辑判断有短路效应 后面的自增和函数不一定会执行\n",
    "            res = scan_unsigned_int(s, n, ++ptr) || res;\n",
    "        }\n",
    "        if(ptr < n && (s[ptr] == 'e' || s[ptr] == 'E')) // 此处用&&是因为e前后必须有数字\n",
    "            res = scan_signed_int(s, n, ++ptr) && res;\n",
    "\n",
    "        while(ptr < n && s[ptr] == ' ')++ptr; // 越过结尾的空格\n",
    "        return res && ptr >= n;\n",
    "    }\n",
    "};\n",
    "```"
   ]
  },
  {
   "cell_type": "markdown",
   "metadata": {},
   "source": [
    "1. 如何表示数字的合法模式\n",
    "2. 移动指针判断法\n",
    "3. 逻辑判断的短路效应"
   ]
  },
  {
   "cell_type": "code",
   "execution_count": null,
   "metadata": {},
   "outputs": [],
   "source": []
  }
 ],
 "metadata": {
  "kernelspec": {
   "display_name": "Python 3",
   "language": "python",
   "name": "python3"
  },
  "language_info": {
   "codemirror_mode": {
    "name": "ipython",
    "version": 3
   },
   "file_extension": ".py",
   "mimetype": "text/x-python",
   "name": "python",
   "nbconvert_exporter": "python",
   "pygments_lexer": "ipython3",
   "version": "3.8.3"
  }
 },
 "nbformat": 4,
 "nbformat_minor": 4
}
