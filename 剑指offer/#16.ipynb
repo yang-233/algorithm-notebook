{
 "cells": [
  {
   "cell_type": "markdown",
   "metadata": {},
   "source": [
    "```\n",
    "class Solution {\n",
    "public:\n",
    "    double ll_pow(int x, long long n) { // int 可能越界\n",
    "        int res = 1;\n",
    "        while(n) {\n",
    "            if(n & 1)\n",
    "                res *= x;\n",
    "            x *= x;\n",
    "            n >>= 1;\n",
    "        }\n",
    "        return (double)res;\n",
    "    }\n",
    "    double double_pow(double x, long long n) {\n",
    "        double res = 1;\n",
    "        while(n) {\n",
    "            if(n & 1)\n",
    "                res *= x;\n",
    "            x *= x;\n",
    "            n >>= 1;\n",
    "        }\n",
    "        return res;\n",
    "    }\n",
    "    double myPow(double x, long long n) { //\n",
    "        if(x == 0 || x == 1)\n",
    "            return x;\n",
    "        double res;\n",
    "        // bool neg = false; \n",
    "        if(n < 0) {\n",
    "            // neg = true;\n",
    "            x = 1 / x; // 先取反才能避免后续越界\n",
    "            n = abs(n); // 变成long long来避免越界\n",
    "        }\n",
    "        if(floor(x) == x) // x是整数\n",
    "            res = ll_pow(x, n);\n",
    "        else\n",
    "            res = double_pow(x, n);\n",
    "        return res;\n",
    "    }\n",
    "};\n",
    "```"
   ]
  },
  {
   "cell_type": "markdown",
   "metadata": {},
   "source": [
    "# 主要是各种边界处理"
   ]
  },
  {
   "cell_type": "code",
   "execution_count": null,
   "metadata": {},
   "outputs": [],
   "source": []
  }
 ],
 "metadata": {
  "kernelspec": {
   "display_name": "Python 3",
   "language": "python",
   "name": "python3"
  },
  "language_info": {
   "codemirror_mode": {
    "name": "ipython",
    "version": 3
   },
   "file_extension": ".py",
   "mimetype": "text/x-python",
   "name": "python",
   "nbconvert_exporter": "python",
   "pygments_lexer": "ipython3",
   "version": "3.8.5"
  }
 },
 "nbformat": 4,
 "nbformat_minor": 4
}
