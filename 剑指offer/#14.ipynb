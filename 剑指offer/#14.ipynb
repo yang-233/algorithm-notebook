{
 "cells": [
  {
   "cell_type": "markdown",
   "metadata": {},
   "source": [
    "```\n",
    "class Solution {\n",
    "public:\n",
    "    int cuttingRope(int n) {\n",
    "        if(n < 1)\n",
    "            return 0; \n",
    "        vector<int> dp(n + 1, 0);\n",
    "        dp[1] = 1;\n",
    "        int _max = 0;\n",
    "        for(int i = 2; i <= n; i++) {\n",
    "            for(int j = 1; j <= i / 2; j++)\n",
    "                dp[i] = max(dp[i], max(dp[j], j) * max(dp[i - j], i - j));\n",
    "        }\n",
    "        return dp[n];\n",
    "    }\n",
    "};\n",
    "```"
   ]
  },
  {
   "cell_type": "code",
   "execution_count": 1,
   "metadata": {},
   "outputs": [],
   "source": [
    "## 有贪心解法 还有数学推论解法。。"
   ]
  },
  {
   "cell_type": "code",
   "execution_count": null,
   "metadata": {},
   "outputs": [],
   "source": []
  }
 ],
 "metadata": {
  "kernelspec": {
   "display_name": "Python 3",
   "language": "python",
   "name": "python3"
  },
  "language_info": {
   "codemirror_mode": {
    "name": "ipython",
    "version": 3
   },
   "file_extension": ".py",
   "mimetype": "text/x-python",
   "name": "python",
   "nbconvert_exporter": "python",
   "pygments_lexer": "ipython3",
   "version": "3.8.5"
  }
 },
 "nbformat": 4,
 "nbformat_minor": 4
}
