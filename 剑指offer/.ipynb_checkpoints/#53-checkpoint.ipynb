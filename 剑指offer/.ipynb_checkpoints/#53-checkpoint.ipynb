{
 "cells": [
  {
   "cell_type": "markdown",
   "metadata": {},
   "source": [
    "```\n",
    "class Solution {\n",
    "public:\n",
    "    int missingNumber(vector<int>& nums) {\n",
    "        int n = nums.size();\n",
    "        int l = 0, r = n - 1, mid;\n",
    "        while(l <= r) {\n",
    "            mid = (l + r) >> 1;\n",
    "            if(nums[mid] == mid)\n",
    "                l = mid + 1;\n",
    "            else\n",
    "                r = mid - 1;\n",
    "        }\n",
    "        return l;\n",
    "    }\n",
    "};\n",
    "```"
   ]
  },
  {
   "cell_type": "code",
   "execution_count": 2,
   "metadata": {},
   "outputs": [],
   "source": [
    " # 简单的二分 注意边界条件 "
   ]
  },
  {
   "cell_type": "code",
   "execution_count": null,
   "metadata": {},
   "outputs": [],
   "source": []
  }
 ],
 "metadata": {
  "kernelspec": {
   "display_name": "Python 3",
   "language": "python",
   "name": "python3"
  },
  "language_info": {
   "codemirror_mode": {
    "name": "ipython",
    "version": 3
   },
   "file_extension": ".py",
   "mimetype": "text/x-python",
   "name": "python",
   "nbconvert_exporter": "python",
   "pygments_lexer": "ipython3",
   "version": "3.8.3"
  }
 },
 "nbformat": 4,
 "nbformat_minor": 4
}
