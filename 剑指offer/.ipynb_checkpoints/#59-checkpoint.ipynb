{
 "cells": [
  {
   "cell_type": "code",
   "execution_count": 1,
   "metadata": {},
   "outputs": [],
   "source": [
    "from typing import *\n",
    "class Solution:\n",
    "    def maxSlidingWindow(self, nums: List[int], k: int) -> List[int]:\n",
    "        que, max_que, res = [], [], []\n",
    "\n",
    "        for i in nums:\n",
    "            que.append(i)\n",
    "            while len(max_que) > 0 and max_que[-1] < i:\n",
    "                max_que.pop()\n",
    "            max_que.append(i)\n",
    "\n",
    "            if len(que) == k:\n",
    "                res.append(max_que[0])\n",
    "                v = que.pop(0)\n",
    "                if max_que[0] == v:\n",
    "                    max_que.pop(0)\n",
    "\n",
    "        if not res and max_que: # 如果k > n\n",
    "            res.append(max_que[0])\n",
    "\n",
    "        return res\n",
    "            \n"
   ]
  },
  {
   "cell_type": "code",
   "execution_count": 2,
   "metadata": {},
   "outputs": [],
   "source": [
    "# 实际上就是那个可以获得最大值的队列的应用"
   ]
  },
  {
   "cell_type": "code",
   "execution_count": null,
   "metadata": {},
   "outputs": [],
   "source": []
  }
 ],
 "metadata": {
  "kernelspec": {
   "display_name": "Python 3",
   "language": "python",
   "name": "python3"
  },
  "language_info": {
   "codemirror_mode": {
    "name": "ipython",
    "version": 3
   },
   "file_extension": ".py",
   "mimetype": "text/x-python",
   "name": "python",
   "nbconvert_exporter": "python",
   "pygments_lexer": "ipython3",
   "version": "3.8.3"
  }
 },
 "nbformat": 4,
 "nbformat_minor": 4
}
