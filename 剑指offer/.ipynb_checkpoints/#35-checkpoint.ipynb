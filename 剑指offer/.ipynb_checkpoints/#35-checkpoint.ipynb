{
 "cells": [
  {
   "cell_type": "code",
   "execution_count": 1,
   "metadata": {},
   "outputs": [],
   "source": [
    "\"\"\"\n",
    "# Definition for a Node.\n",
    "class Node:\n",
    "    def __init__(self, x: int, next: 'Node' = None, random: 'Node' = None):\n",
    "        self.val = int(x)\n",
    "        self.next = next\n",
    "        self.random = random\n",
    "\"\"\"\n",
    "class Solution:\n",
    "    def copyRandomList(self, head: 'Node') -> 'Node':\n",
    "        return self.copyRandomList_2(head)\n",
    "        def dfs(head):\n",
    "            if not head: return None\n",
    "            if head in visited:\n",
    "                return visited[head]\n",
    "            # 创建新结点\n",
    "            copy = Node(head.val, None, None)\n",
    "            visited[head] = copy\n",
    "            copy.next = dfs(head.next)\n",
    "            copy.random = dfs(head.random)\n",
    "            return copy\n",
    "        visited = {}\n",
    "        return dfs(head)\n",
    "\n",
    "    def copyRandomList_2(self, head: 'Node') -> 'Node':\n",
    "        if not head: return head\n",
    "        cur = head\n",
    "        while cur:\n",
    "            new_node = Node(cur.val,None,None)   # 克隆新结点\n",
    "            new_node.next = cur.next\n",
    "            cur.next = new_node   # 克隆新结点在cur 后面\n",
    "            cur = new_node.next   # 移动到下一个要克隆的点\n",
    "        cur = head\n",
    "\n",
    "        while cur:  # 链接random\n",
    "            cur.next.random = cur.random.next if cur.random else None\n",
    "            cur = cur.next.next\n",
    "\n",
    "        cur_old_list = head # 将两个链表分开\n",
    "        cur_new_list = head.next\n",
    "        new_head = head.next\n",
    "        while cur_old_list:\n",
    "            cur_old_list.next = cur_old_list.next.next\n",
    "            cur_new_list.next = cur_new_list.next.next if cur_new_list.next else None\n",
    "            cur_old_list = cur_old_list.next\n",
    "            cur_new_list = cur_new_list.next\n",
    "        return new_head\n"
   ]
  },
  {
   "cell_type": "code",
   "execution_count": null,
   "metadata": {},
   "outputs": [],
   "source": []
  }
 ],
 "metadata": {
  "kernelspec": {
   "display_name": "Python 3",
   "language": "python",
   "name": "python3"
  },
  "language_info": {
   "codemirror_mode": {
    "name": "ipython",
    "version": 3
   },
   "file_extension": ".py",
   "mimetype": "text/x-python",
   "name": "python",
   "nbconvert_exporter": "python",
   "pygments_lexer": "ipython3",
   "version": "3.8.3"
  }
 },
 "nbformat": 4,
 "nbformat_minor": 4
}
