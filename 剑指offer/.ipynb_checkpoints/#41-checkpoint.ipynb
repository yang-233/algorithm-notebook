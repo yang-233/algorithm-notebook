{
 "cells": [
  {
   "cell_type": "markdown",
   "metadata": {},
   "source": [
    "```\n",
    "class MedianFinder {\n",
    "public:\n",
    "    multiset<int> s;\n",
    "    multiset<int>::iterator l, r;\n",
    "    /** initialize your data structure here. */\n",
    "    MedianFinder() {\n",
    "        s.clear();\n",
    "        l = s.end();\n",
    "        r = s.end();\n",
    "    }\n",
    "    \n",
    "    void addNum(int num) {\n",
    "        s.insert(num);\n",
    "        int n = s.size();\n",
    "        if(n == 1) \n",
    "            l = r = s.begin();\n",
    "        else if(n & 1) { // 从偶数变成奇数\n",
    "            if(num >= *r) // 插入的数字在右侧\n",
    "                ++l; \n",
    "            else if(num < *l) // 插入的数字在左侧\n",
    "                --r;\n",
    "            else \n",
    "                ++l, --r; // 插入的数字在两指针中间\n",
    "            }    \n",
    "        else {// 从奇数变成偶数\n",
    "            if(num >= *r) // 插入的数字在右侧\n",
    "                ++r; \n",
    "            else if(num < *l) // 插入的数字在左侧\n",
    "                --l;\n",
    "            else \n",
    "                ++r; // 插入的数字刚好等于最中间的数\n",
    "        }\n",
    "    }\n",
    "    \n",
    "    double findMedian() {\n",
    "        return ((double)*l + *r) / 2;\n",
    "    }\n",
    "};\n",
    "```\n"
   ]
  },
  {
   "cell_type": "code",
   "execution_count": null,
   "metadata": {},
   "outputs": [],
   "source": []
  }
 ],
 "metadata": {
  "kernelspec": {
   "display_name": "Python 3",
   "language": "python",
   "name": "python3"
  },
  "language_info": {
   "codemirror_mode": {
    "name": "ipython",
    "version": 3
   },
   "file_extension": ".py",
   "mimetype": "text/x-python",
   "name": "python",
   "nbconvert_exporter": "python",
   "pygments_lexer": "ipython3",
   "version": "3.8.3"
  }
 },
 "nbformat": 4,
 "nbformat_minor": 4
}
