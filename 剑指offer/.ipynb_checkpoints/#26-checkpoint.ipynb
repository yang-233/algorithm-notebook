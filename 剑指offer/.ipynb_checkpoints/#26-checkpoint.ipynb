{
 "cells": [
  {
   "cell_type": "markdown",
   "metadata": {},
   "source": [
    "```\n",
    "/**\n",
    " * Definition for a binary tree node.\n",
    " * struct TreeNode {\n",
    " *     int val;\n",
    " *     TreeNode *left;\n",
    " *     TreeNode *right;\n",
    " *     TreeNode(int x) : val(x), left(NULL), right(NULL) {}\n",
    " * };\n",
    " */\n",
    "class Solution {\n",
    "public:\n",
    "    bool ans = false;\n",
    "    bool same(TreeNode* a, TreeNode* b) {\n",
    "        if(a == nullptr)\n",
    "            return false;\n",
    "        bool ans = a->val == b->val; // 当前值相同\n",
    "        if(ans) {\n",
    "            if(b->left) // b有左子树 则向左孩子递归\n",
    "                ans = same(a->left, b->left) && ans;\n",
    "            if(ans && b->right) // 有右孩子 向右孩子递归\n",
    "                ans = same(a->right, b->right) && ans;\n",
    "        }\n",
    "        return ans;\n",
    "    }\n",
    "    void check(TreeNode* a, TreeNode* b) {\n",
    "        if(!ans && a->val == b->val)\n",
    "            ans = same(a, b);\n",
    "        if(!ans && a->left)\n",
    "            check(a->left, b);\n",
    "        if(!ans && a->right)\n",
    "            check(a->right, b);\n",
    "        \n",
    "    }\n",
    "    bool isSubStructure(TreeNode* a, TreeNode* b) {\n",
    "        if(!a || !b) // 约定空子树不是任何树的子树\n",
    "            return false;\n",
    "        ans = false;\n",
    "        check(a, b);\n",
    "        return ans;\n",
    "    }\n",
    "};\n",
    "```"
   ]
  },
  {
   "cell_type": "code",
   "execution_count": null,
   "metadata": {},
   "outputs": [],
   "source": []
  }
 ],
 "metadata": {
  "kernelspec": {
   "display_name": "Python 3",
   "language": "python",
   "name": "python3"
  },
  "language_info": {
   "codemirror_mode": {
    "name": "ipython",
    "version": 3
   },
   "file_extension": ".py",
   "mimetype": "text/x-python",
   "name": "python",
   "nbconvert_exporter": "python",
   "pygments_lexer": "ipython3",
   "version": "3.8.3"
  }
 },
 "nbformat": 4,
 "nbformat_minor": 4
}
