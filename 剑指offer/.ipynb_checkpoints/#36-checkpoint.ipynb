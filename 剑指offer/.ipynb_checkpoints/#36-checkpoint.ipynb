{
 "cells": [
  {
   "cell_type": "code",
   "execution_count": 1,
   "metadata": {},
   "outputs": [],
   "source": [
    "\"\"\"\n",
    "# Definition for a Node.\n",
    "class Node:\n",
    "    def __init__(self, val, left=None, right=None):\n",
    "        self.val = val\n",
    "        self.left = left\n",
    "        self.right = right\n",
    "\"\"\"\n",
    "class Solution:\n",
    "    def treeToDoublyList(self, root: 'Node') -> 'Node':\n",
    "        def dfs(root):\n",
    "            if root is None:\n",
    "                return None, None\n",
    "\n",
    "            lmin, lmax = dfs(root.left)\n",
    "            rmin, rmax = dfs(root.right)\n",
    "\n",
    "            l = r = root\n",
    "            root.left = root.right = None\n",
    "\n",
    "            if lmax is not None: # 接上左侧最大的\n",
    "                root.left = lmax\n",
    "                lmax.right = root\n",
    "            if lmin is not None: # 左侧最小不是自身\n",
    "                l = lmin\n",
    "            if rmin is not None: # 接上右侧最小\n",
    "                root.right = rmin\n",
    "                rmin.left = root\n",
    "            if rmax is not None: # 如果右侧最大不是本身\n",
    "                r = rmax\n",
    "            return l, r\n",
    "        \n",
    "        lmin, rmax = dfs(root)\n",
    "        if lmin is not None:\n",
    "            lmin.left = rmax\n",
    "        if rmax is not None:\n",
    "            rmax.right = lmin\n",
    "        return lmin"
   ]
  },
  {
   "cell_type": "code",
   "execution_count": 2,
   "metadata": {},
   "outputs": [],
   "source": [
    "# 不要忘了左指针要连上右边"
   ]
  },
  {
   "cell_type": "code",
   "execution_count": null,
   "metadata": {},
   "outputs": [],
   "source": []
  }
 ],
 "metadata": {
  "kernelspec": {
   "display_name": "Python 3",
   "language": "python",
   "name": "python3"
  },
  "language_info": {
   "codemirror_mode": {
    "name": "ipython",
    "version": 3
   },
   "file_extension": ".py",
   "mimetype": "text/x-python",
   "name": "python",
   "nbconvert_exporter": "python",
   "pygments_lexer": "ipython3",
   "version": "3.8.3"
  }
 },
 "nbformat": 4,
 "nbformat_minor": 4
}
