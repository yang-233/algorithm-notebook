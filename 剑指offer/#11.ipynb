{
 "cells": [
  {
   "cell_type": "code",
   "execution_count": 1,
   "metadata": {},
   "outputs": [],
   "source": [
    "from typing import *"
   ]
  },
  {
   "cell_type": "markdown",
   "metadata": {},
   "source": [
    "```c/c++\n",
    "class Solution {\n",
    "public:\n",
    "    int minArray(vector<int>& a) {\n",
    "        int n = a.size();\n",
    "        int l = 0, r = n - 1, mid;\n",
    "        if(a[l] < a[r]) // 特殊的情况 并没有分成两块\n",
    "            return a[l];\n",
    "        while(l < r - 1) {// 当l+1 == r时， r指向解\n",
    "            mid = (l + r) >> 1;\n",
    "            if(a[mid] > a[r]) // mid指向第一段\n",
    "                l = mid;\n",
    "            else if(a[mid] < a[r])  // mid 指向第二段\n",
    "                r = mid;\n",
    "            else { // a[mid] == a[r]\n",
    "                if(a[mid] < a[l]) // mid 指向第二段\n",
    "                    r = mid;\n",
    "                else if(a[mid] == a[l]) { // left == mid == right 无法判断哪一段 此时只能选择枚举\n",
    "                    int _min = a[r];\n",
    "                    for(int i = l; i <= r; i++)\n",
    "                        _min = min(_min, a[i]);\n",
    "                    return _min;\n",
    "                } else; // 事实上不可能出现a[mid] > [l] 的情况 因为此时a[mid] == a[r]\n",
    "            }\n",
    "        }\n",
    "        return a[r];\n",
    "    }\n",
    "};\n",
    "```"
   ]
  },
  {
   "cell_type": "code",
   "execution_count": null,
   "metadata": {},
   "outputs": [],
   "source": []
  }
 ],
 "metadata": {
  "kernelspec": {
   "display_name": "Python 3",
   "language": "python",
   "name": "python3"
  },
  "language_info": {
   "codemirror_mode": {
    "name": "ipython",
    "version": 3
   },
   "file_extension": ".py",
   "mimetype": "text/x-python",
   "name": "python",
   "nbconvert_exporter": "python",
   "pygments_lexer": "ipython3",
   "version": "3.8.5"
  }
 },
 "nbformat": 4,
 "nbformat_minor": 4
}
