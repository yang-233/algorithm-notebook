{
 "cells": [
  {
   "cell_type": "code",
   "execution_count": 2,
   "metadata": {},
   "outputs": [],
   "source": [
    "from typing import *\n",
    "class Solution:\n",
    "    class ListNode:\n",
    "        def __init__(self, val):\n",
    "            self.val = val\n",
    "            self.next = None\n",
    "\n",
    "    def spiralOrder(self, matrix: List[List[int]]) -> List[int]:\n",
    "        if matrix is None:\n",
    "            return []\n",
    "        n = len(matrix)\n",
    "        if n == 0:\n",
    "            return []\n",
    "        m = len(matrix[0])\n",
    "        if m == 0:\n",
    "            return []\n",
    "\n",
    "        visited = [[False for _ in range(m)] for __ in range(n)] # n * m\n",
    "\n",
    "        # 构建一个环形链表\n",
    "        d = self.ListNode((0, 1))\n",
    "        d.next = self.ListNode((1, 0))\n",
    "        d.next.next = self.ListNode((0, -1))\n",
    "        d.next.next.next = self.ListNode((-1, 0)) \n",
    "        d.next.next.next.next = d #　右 下 左 上\n",
    "\n",
    "        i, j = 0, 0\n",
    "        res = []\n",
    "        while True: \n",
    "            visited[i][j] = True\n",
    "            res.append(matrix[i][j])\n",
    "            if len(res) == n * m:\n",
    "                break\n",
    "            _i, _j = i, j\n",
    "            while True:\n",
    "                _i = i + d.val[0]\n",
    "                _j = j + d.val[1]\n",
    "                if 0 <= _i < n and 0 <= _j < m and not visited[_i][_j]: # 找到了下一个合理的位置\n",
    "                    break\n",
    "                d = d.next\n",
    "            i, j = _i, _j\n",
    "\n",
    "        return res"
   ]
  },
  {
   "cell_type": "code",
   "execution_count": 3,
   "metadata": {},
   "outputs": [
    {
     "data": {
      "text/plain": [
       "[1, 3, 5, 7, 9]"
      ]
     },
     "execution_count": 3,
     "metadata": {},
     "output_type": "execute_result"
    }
   ],
   "source": [
    "## 想清楚再写代码\n",
    "\n",
    "list(range(1, 10, 2))"
   ]
  },
  {
   "cell_type": "code",
   "execution_count": null,
   "metadata": {},
   "outputs": [],
   "source": []
  }
 ],
 "metadata": {
  "kernelspec": {
   "display_name": "Python 3",
   "language": "python",
   "name": "python3"
  },
  "language_info": {
   "codemirror_mode": {
    "name": "ipython",
    "version": 3
   },
   "file_extension": ".py",
   "mimetype": "text/x-python",
   "name": "python",
   "nbconvert_exporter": "python",
   "pygments_lexer": "ipython3",
   "version": "3.8.5"
  }
 },
 "nbformat": 4,
 "nbformat_minor": 4
}
