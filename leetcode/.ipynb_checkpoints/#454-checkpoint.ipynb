{
 "cells": [
  {
   "cell_type": "code",
   "execution_count": 1,
   "metadata": {},
   "outputs": [],
   "source": [
    "from typing import *\n",
    "class Solution:\n",
    "    def fourSumCount(self, A: List[int], B: List[int], C: List[int], D: List[int]) -> int:\n",
    "        count = {}\n",
    "        for i in A:\n",
    "            for j in B:\n",
    "                count[i + j] = count.get(i + j, 0) + 1\n",
    "        \n",
    "        res = 0\n",
    "\n",
    "        for i in C:\n",
    "            for j in D:\n",
    "                res += count.get(- i - j, 0)\n",
    "        \n",
    "        return res"
   ]
  },
  {
   "cell_type": "code",
   "execution_count": null,
   "metadata": {},
   "outputs": [],
   "source": []
  }
 ],
 "metadata": {
  "kernelspec": {
   "display_name": "Python 3",
   "language": "python",
   "name": "python3"
  },
  "language_info": {
   "codemirror_mode": {
    "name": "ipython",
    "version": 3
   },
   "file_extension": ".py",
   "mimetype": "text/x-python",
   "name": "python",
   "nbconvert_exporter": "python",
   "pygments_lexer": "ipython3",
   "version": "3.8.3"
  }
 },
 "nbformat": 4,
 "nbformat_minor": 4
}
