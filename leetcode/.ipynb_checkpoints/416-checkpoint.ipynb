{
 "cells": [
  {
   "cell_type": "code",
   "execution_count": 5,
   "metadata": {},
   "outputs": [],
   "source": [
    "from typing import *"
   ]
  },
  {
   "cell_type": "code",
   "execution_count": 1,
   "metadata": {},
   "outputs": [],
   "source": [
    "nums = [1, 5, 11, 5]"
   ]
  },
  {
   "cell_type": "code",
   "execution_count": 7,
   "metadata": {},
   "outputs": [],
   "source": [
    "class Solution:\n",
    "    def canPartition(self, nums: List[int]) -> bool:\n",
    "        nums.sort()\n",
    "        small, big = [], []\n",
    "        small_sum, big_sum = 0, 0\n",
    "        while len(nums) > 0:\n",
    "            if small_sum <= big_sum:\n",
    "                small.append(nums[0])\n",
    "                small_sum += nums[0]\n",
    "                nums.pop(0)\n",
    "            else:\n",
    "                big.append(nums[-1])\n",
    "                big_sum.append(nums[-1])\n",
    "                nums.pop()\n",
    "        while small_sum > big_sum:\n",
    "            big.append(small[0])\n",
    "            big_sum += small[0]\n",
    "            small_sum -= small[0]\n",
    "            small.pop(0)\n",
    "        \n",
    "        return small_sum == big_sum"
   ]
  },
  {
   "cell_type": "code",
   "execution_count": null,
   "metadata": {},
   "outputs": [],
   "source": [
    "s = Solution()\n",
    "s.canPartition"
   ]
  }
 ],
 "metadata": {
  "kernelspec": {
   "display_name": "Python 3",
   "language": "python",
   "name": "python3"
  },
  "language_info": {
   "codemirror_mode": {
    "name": "ipython",
    "version": 3
   },
   "file_extension": ".py",
   "mimetype": "text/x-python",
   "name": "python",
   "nbconvert_exporter": "python",
   "pygments_lexer": "ipython3",
   "version": "3.8.5"
  }
 },
 "nbformat": 4,
 "nbformat_minor": 4
}
