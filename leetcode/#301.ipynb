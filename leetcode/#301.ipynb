{
 "cells": [
  {
   "cell_type": "code",
   "execution_count": 1,
   "metadata": {},
   "outputs": [],
   "source": [
    "from typing import *"
   ]
  },
  {
   "cell_type": "code",
   "execution_count": 147,
   "metadata": {},
   "outputs": [],
   "source": [
    "class Solution:\n",
    "\n",
    "    def __init__(self):\n",
    "        self._find = False\n",
    "    \n",
    "    def dfs(self, s:str, n:int, existed:List[bool], del_l:int, del_r:int, cur, res,\n",
    "                idx:int, l:int, r:int):\n",
    "        for i in range(idx, n):\n",
    "            if r > l: # 右括号比左括号还多，此时已经不合法\n",
    "                return\n",
    "            if existed[i]: # 如果当前符号没有被删除\n",
    "                existed[i] = False # 删除当前符号\n",
    "                if s[i] == \"(\":\n",
    "                    if del_l > 0: # 要删除一个左括号\n",
    "                        self.dfs(s, n, existed, del_l - 1, del_r, cur, res, i + 1, l, r)\n",
    "                    l += 1 # 不删这个左括号的话，需要加一个左括号\n",
    "                elif s[i] == \")\":\n",
    "                    if del_r > 0:\n",
    "                        self.dfs(s, n, existed, del_l, del_r - 1, cur, res, i + 1, l, r)\n",
    "                    r += 1 # 不删这个右括号的话，需要加一个右括号\n",
    "                existed[i] = True # 保留当前符号\n",
    "                cur += s[i]\n",
    "        \n",
    "        if l == r: # 找到合适的解\n",
    "            res.add(cur)\n",
    "            self._find = True\n",
    "            \n",
    "    def removeInvalidParentheses(self, s: str) -> List[str]:\n",
    "        if s is None or len(s) == 0: # 空指针处理\n",
    "            return [\"\"]\n",
    "        \n",
    "        n = len(s) \n",
    "        l = r = 0 # 统计多少个左右括号\n",
    "        for i in s:\n",
    "            if i == \"(\":\n",
    "                l += 1\n",
    "            elif i == \")\":\n",
    "                r += 1\n",
    "                \n",
    "        existed = [True for i in range(n)]\n",
    "        self._find = False\n",
    "        cur = \"\"\n",
    "        res = set()\n",
    "        if l > r:\n",
    "            del_l = l - r # 左括号比右括号多 要先删除多余左括号\n",
    "            del_r = 0\n",
    "        elif l < r:\n",
    "            del_l = 0\n",
    "            del_r = r - l # 右括号比左括号多 要先删除多余右括号\n",
    "        else:\n",
    "            del_l = del_r = 0 # 有可能一个括号都不用删除 即输入序列已经合法\n",
    "        while not self._find and\\\n",
    "                del_l + del_r <= l + r: # 找到结果或者删光所有括号\n",
    "            self.dfs(s, n, existed, del_l, del_r, cur, res, 0, 0, 0)\n",
    "            del_l += 1 #如果找不到解就接着删\n",
    "            del_r += 1 # 括号必须成对删除\n",
    "        \n",
    "        return list(res)"
   ]
  },
  {
   "cell_type": "code",
   "execution_count": 149,
   "metadata": {},
   "outputs": [
    {
     "name": "stdout",
     "output_type": "stream",
     "text": [
      "CPU times: user 76 µs, sys: 6 µs, total: 82 µs\n",
      "Wall time: 87.7 µs\n"
     ]
    },
    {
     "data": {
      "text/plain": [
       "['()()()', '(())()']"
      ]
     },
     "execution_count": 149,
     "metadata": {},
     "output_type": "execute_result"
    }
   ],
   "source": [
    "%%time\n",
    "s = Solution()\n",
    "#x = \")(\"\n",
    "x = \"()())()\"\n",
    "res = s.removeInvalidParentheses(x)\n",
    "res"
   ]
  },
  {
   "cell_type": "code",
   "execution_count": 29,
   "metadata": {},
   "outputs": [
    {
     "name": "stdout",
     "output_type": "stream",
     "text": [
      "1\n",
      "2\n",
      "3\n"
     ]
    }
   ],
   "source": [
    "a = \"123\"\n",
    "for i in a:\n",
    "    print(i)"
   ]
  },
  {
   "cell_type": "code",
   "execution_count": 33,
   "metadata": {},
   "outputs": [],
   "source": [
    "a = {}"
   ]
  },
  {
   "cell_type": "code",
   "execution_count": 34,
   "metadata": {},
   "outputs": [
    {
     "data": {
      "text/plain": [
       "\u001b[0;31mDocstring:\u001b[0m\n",
       "D.update([E, ]**F) -> None.  Update D from dict/iterable E and F.\n",
       "If E is present and has a .keys() method, then does:  for k in E: D[k] = E[k]\n",
       "If E is present and lacks a .keys() method, then does:  for k, v in E: D[k] = v\n",
       "In either case, this is followed by: for k in F:  D[k] = F[k]\n",
       "\u001b[0;31mType:\u001b[0m      builtin_function_or_method\n"
      ]
     },
     "metadata": {},
     "output_type": "display_data"
    }
   ],
   "source": [
    "a.update?"
   ]
  },
  {
   "cell_type": "code",
   "execution_count": null,
   "metadata": {},
   "outputs": [],
   "source": []
  }
 ],
 "metadata": {
  "kernelspec": {
   "display_name": "Python 3",
   "language": "python",
   "name": "python3"
  },
  "language_info": {
   "codemirror_mode": {
    "name": "ipython",
    "version": 3
   },
   "file_extension": ".py",
   "mimetype": "text/x-python",
   "name": "python",
   "nbconvert_exporter": "python",
   "pygments_lexer": "ipython3",
   "version": "3.8.5"
  }
 },
 "nbformat": 4,
 "nbformat_minor": 4
}
