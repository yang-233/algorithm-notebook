{
 "cells": [
  {
   "cell_type": "code",
   "execution_count": 1,
   "metadata": {},
   "outputs": [],
   "source": [
    "from typing import *"
   ]
  },
  {
   "cell_type": "code",
   "execution_count": 26,
   "metadata": {},
   "outputs": [
    {
     "data": {
      "text/plain": [
       "3"
      ]
     },
     "execution_count": 26,
     "metadata": {},
     "output_type": "execute_result"
    }
   ],
   "source": [
    "class Solution:\n",
    "    def maxProfit(self, prices: List[int]) -> int:\n",
    "        if prices is None or len(prices) == 0:\n",
    "            return None\n",
    "        \n",
    "        n = len(prices)\n",
    "        INF = int(1e9)\n",
    "        # (买入状态，卖出状态， 持有股票无操作， 无股票无操作)\n",
    "        # dp = [[-INF, 0, -INF, 0]] * (n + 1) #这个写法有问题所有的指向同一个list print(dp[0] is dp[1]) True \n",
    "        dp = [[-INF, 0, -INF, 0] for _ in range(n + 1)] # print(dp[0] is dp[1]) False        \n",
    "        for i in range(1, n + 1):\n",
    "            dp[i][0] = dp[i - 1][3] - prices[i - 1] # 只有前一天没有操作且没有持有股票才能买入\n",
    "            dp[i][1] = max(dp[i - 1][0], dp[i - 1][2]) + prices[i - 1] # 必须持有股票才能卖出\n",
    "            dp[i][2] = max(dp[i - 1][0], dp[i - 1][2]) # 持有股票 但不卖出\n",
    "            dp[i][3] = max(dp[i - 1][1], dp[i - 1][3]) # 没有股票 没操作\n",
    "        return max(dp[n])\n",
    "\n",
    "prices = [1,2,3,0,2]\n",
    "Solution().maxProfit(prices)"
   ]
  },
  {
   "cell_type": "code",
   "execution_count": 29,
   "metadata": {},
   "outputs": [],
   "source": [
    "a = [1, 2, 3, 0]"
   ]
  },
  {
   "cell_type": "code",
   "execution_count": 30,
   "metadata": {},
   "outputs": [],
   "source": [
    "a.insert(0, 4)"
   ]
  },
  {
   "cell_type": "code",
   "execution_count": 31,
   "metadata": {},
   "outputs": [
    {
     "data": {
      "text/plain": [
       "[4, 1, 2, 3, 0]"
      ]
     },
     "execution_count": 31,
     "metadata": {},
     "output_type": "execute_result"
    }
   ],
   "source": [
    "a"
   ]
  },
  {
   "cell_type": "code",
   "execution_count": null,
   "metadata": {},
   "outputs": [],
   "source": []
  }
 ],
 "metadata": {
  "kernelspec": {
   "display_name": "Python 3",
   "language": "python",
   "name": "python3"
  },
  "language_info": {
   "codemirror_mode": {
    "name": "ipython",
    "version": 3
   },
   "file_extension": ".py",
   "mimetype": "text/x-python",
   "name": "python",
   "nbconvert_exporter": "python",
   "pygments_lexer": "ipython3",
   "version": "3.8.5"
  }
 },
 "nbformat": 4,
 "nbformat_minor": 4
}
