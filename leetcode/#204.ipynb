{
 "cells": [
  {
   "cell_type": "markdown",
   "metadata": {},
   "source": [
    "```\n",
    "class Solution {\n",
    "public:\n",
    "    int countPrimes(int n) { // 线性筛 素数\n",
    "        vector<int> primes;\n",
    "        vector<int> isPrime(n, 1);\n",
    "        for (int i = 2; i < n; ++i) {\n",
    "            if (isPrime[i]) \n",
    "                primes.push_back(i);\n",
    "            for (int j = 0; j < primes.size() && i * primes[j] < n; ++j) {\n",
    "                isPrime[i * primes[j]] = 0;\n",
    "                if (i % primes[j] == 0) \n",
    "                    break;\n",
    "            }\n",
    "        }\n",
    "        return primes.size();\n",
    "    }\n",
    "};\n",
    "\n",
    "\n",
    "```"
   ]
  },
  {
   "cell_type": "code",
   "execution_count": 1,
   "metadata": {},
   "outputs": [],
   "source": [
    "a = \"a\""
   ]
  },
  {
   "cell_type": "code",
   "execution_count": 3,
   "metadata": {},
   "outputs": [
    {
     "data": {
      "text/plain": [
       "False"
      ]
     },
     "execution_count": 3,
     "metadata": {},
     "output_type": "execute_result"
    }
   ],
   "source": [
    "a.isal()"
   ]
  },
  {
   "cell_type": "code",
   "execution_count": null,
   "metadata": {},
   "outputs": [],
   "source": []
  }
 ],
 "metadata": {
  "kernelspec": {
   "display_name": "Python 3",
   "language": "python",
   "name": "python3"
  },
  "language_info": {
   "codemirror_mode": {
    "name": "ipython",
    "version": 3
   },
   "file_extension": ".py",
   "mimetype": "text/x-python",
   "name": "python",
   "nbconvert_exporter": "python",
   "pygments_lexer": "ipython3",
   "version": "3.8.5"
  }
 },
 "nbformat": 4,
 "nbformat_minor": 4
}
