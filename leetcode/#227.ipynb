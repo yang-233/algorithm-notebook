{
 "cells": [
  {
   "cell_type": "markdown",
   "metadata": {},
   "source": [
    "```\n",
    "class Solution {\n",
    "  public:\n",
    "  \n",
    "    bool comp_oper(char op1, char op2) { // 比较运算符的优先级\n",
    "        if (op1 == '*' || op1 == '/') \n",
    "            return true;\n",
    "        else \n",
    "            return op2 == '+' || op2 == '-';\n",
    "    }\n",
    "\n",
    "    int calc_expr(int a, int b, char oper) { // 计算表达式\n",
    "        switch (oper) {\n",
    "            case '+':\n",
    "                return a + b;\n",
    "            case '-':\n",
    "                return a - b;\n",
    "            case '*':\n",
    "                return a * b;\n",
    "            case '/':\n",
    "                return a / b;\n",
    "            default:\n",
    "                exit(1);\n",
    "        }\n",
    "    }\n",
    "    int calculate(string s) {\n",
    "        int len = s.length(), m = 0, n = 0;\n",
    "        vector<int> oper(100), opernum(100); // 操作符和操作数\n",
    "        for (int i = 0, j; i < len; ++i) {\n",
    "            if (s[i] == ' ') {\n",
    "                continue;\n",
    "            } else if (!isalnum(s[i])) { // 是个操作符\n",
    "                if (!m || !comp_oper(oper[m - 1], s[i])) \n",
    "                    oper[m++] = s[i];\n",
    "                else { // 如果当前运算符优先级更低，则直接运算上一步的结果\n",
    "                    int a = opernum[n - 2], b = opernum[n - 1];\n",
    "                    opernum[n - 2] = calc_expr(a, b, oper[m - 1]);\n",
    "                    --n;\n",
    "                    oper[m - 1] = s[i];\n",
    "                }\n",
    "            } else {\n",
    "                j = i;\n",
    "                while (i < len && isalnum(s[i])) \n",
    "                    ++i;\n",
    "                opernum[n++] = stoi(s.substr(j, i - j));\n",
    "                --i;\n",
    "                if (m > 0 && (oper[m - 1] == '*' || oper[m - 1] == '/')) {\n",
    "                    // 如果之前的运算符为乘或除，则直接运算\n",
    "                    int a = opernum[n - 2], b = opernum[n - 1];\n",
    "                    opernum[n - 2] = calc_expr(a, b, oper[m - 1]);\n",
    "                    --n;\n",
    "                    --m;\n",
    "                }\n",
    "            }\n",
    "        }\n",
    "        // 收集，从左向右计算一遍即可，此时只剩加法减法\n",
    "        for (int i = 0, j = 0; i < m; ++i, ++j) {\n",
    "            int a = opernum[j], b = opernum[j + 1];\n",
    "            opernum[j + 1] = calc_expr(a, b, oper[i]);\n",
    "        }\n",
    "        return opernum[m];\n",
    "    }\n",
    "};\n",
    "\n",
    "```"
   ]
  },
  {
   "cell_type": "markdown",
   "metadata": {},
   "source": [
    "## 拆解\n",
    "首先，只有加减乘除，要考虑乘除的优先级比加减法更高\n",
    "所以，遇到乘除法可以立刻运算，把乘除法都处理完之后，只剩加减法，同样的操作即可。"
   ]
  },
  {
   "cell_type": "code",
   "execution_count": null,
   "metadata": {},
   "outputs": [],
   "source": []
  }
 ],
 "metadata": {
  "kernelspec": {
   "display_name": "Python 3",
   "language": "python",
   "name": "python3"
  },
  "language_info": {
   "codemirror_mode": {
    "name": "ipython",
    "version": 3
   },
   "file_extension": ".py",
   "mimetype": "text/x-python",
   "name": "python",
   "nbconvert_exporter": "python",
   "pygments_lexer": "ipython3",
   "version": "3.8.3"
  }
 },
 "nbformat": 4,
 "nbformat_minor": 4
}
