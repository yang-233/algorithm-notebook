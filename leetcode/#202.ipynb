{
 "cells": [
  {
   "cell_type": "markdown",
   "metadata": {},
   "source": [
    "```\n",
    "class Solution:\n",
    "    def get_next(self, n) -> int:\n",
    "        res = 0 \n",
    "        while n > 0:\n",
    "            res += (n % 10) ** 2\n",
    "            n //= 10\n",
    "        return res\n",
    "    def isHappy(self, n: int) -> bool:\n",
    "        slow = fast = n\n",
    "        while True:\n",
    "            slow = self.get_next(slow)\n",
    "            fast = self.get_next(self.get_next(fast))\n",
    "            if slow == fast:\n",
    "                break\n",
    "        return slow == 1\n",
    "\n",
    "```"
   ]
  },
  {
   "cell_type": "markdown",
   "metadata": {},
   "source": [
    "# 核心在于分析循环\n",
    "# 列几个例子就会发现实际上并不会出现无限变大 而是会进入循环\n",
    "# 是否是快乐数的判定就是最后进入循环之后是不是1"
   ]
  },
  {
   "cell_type": "code",
   "execution_count": null,
   "metadata": {},
   "outputs": [],
   "source": []
  }
 ],
 "metadata": {
  "kernelspec": {
   "display_name": "Python 3",
   "language": "python",
   "name": "python3"
  },
  "language_info": {
   "codemirror_mode": {
    "name": "ipython",
    "version": 3
   },
   "file_extension": ".py",
   "mimetype": "text/x-python",
   "name": "python",
   "nbconvert_exporter": "python",
   "pygments_lexer": "ipython3",
   "version": "3.8.5"
  }
 },
 "nbformat": 4,
 "nbformat_minor": 4
}
