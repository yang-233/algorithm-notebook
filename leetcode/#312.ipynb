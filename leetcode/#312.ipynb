{
 "cells": [
  {
   "cell_type": "code",
   "execution_count": 1,
   "metadata": {},
   "outputs": [],
   "source": [
    "from typing import *"
   ]
  },
  {
   "cell_type": "code",
   "execution_count": 6,
   "metadata": {},
   "outputs": [],
   "source": [
    "from functools import reduce\n",
    "import operator"
   ]
  },
  {
   "cell_type": "code",
   "execution_count": 86,
   "metadata": {},
   "outputs": [
    {
     "name": "stdout",
     "output_type": "stream",
     "text": [
      "1 1 3\n",
      "2 2 15\n",
      "3 3 40\n",
      "4 4 40\n",
      "1 2 30\n",
      "2 3 135\n",
      "3 4 48\n",
      "1 3 159\n",
      "2 4 159\n",
      "1 4 167\n"
     ]
    },
    {
     "data": {
      "text/plain": [
       "167"
      ]
     },
     "execution_count": 86,
     "metadata": {},
     "output_type": "execute_result"
    }
   ],
   "source": [
    "class Solution:\n",
    "    def maxCoins(self, nums: List[int]) -> int:\n",
    "        if nums is None or len(nums) == 0:\n",
    "            return 0\n",
    "        n = len(nums)\n",
    "        nums.insert(0, 1)\n",
    "        nums.append(1)\n",
    "        \n",
    "        dp = [[0] * (n + 2) for _ in range(n + 2)]\n",
    "        for _len in range(1, n + 1): #[1, n]\n",
    "            for l in range(1, n + 2 - _len): #[1, n]\n",
    "                r = l + _len - 1\n",
    "                for i in range(l, r + 1):\n",
    "                    dp[l][r] = max(dp[l][r], dp[l][i - 1] + dp[i + 1][r] + nums[l - 1] * nums[i] * nums[r + 1])\n",
    "        return dp[1][n]\n",
    "        \n",
    "nums = [3,1,5,8]\n",
    "Solution().maxCoins(nums)"
   ]
  },
  {
   "cell_type": "code",
   "execution_count": 7,
   "metadata": {},
   "outputs": [
    {
     "data": {
      "text/plain": [
       "120"
      ]
     },
     "execution_count": 7,
     "metadata": {},
     "output_type": "execute_result"
    }
   ],
   "source": [
    "reduce(operator.mul, nums)"
   ]
  },
  {
   "cell_type": "code",
   "execution_count": null,
   "metadata": {},
   "outputs": [],
   "source": []
  }
 ],
 "metadata": {
  "kernelspec": {
   "display_name": "Python 3",
   "language": "python",
   "name": "python3"
  },
  "language_info": {
   "codemirror_mode": {
    "name": "ipython",
    "version": 3
   },
   "file_extension": ".py",
   "mimetype": "text/x-python",
   "name": "python",
   "nbconvert_exporter": "python",
   "pygments_lexer": "ipython3",
   "version": "3.8.5"
  }
 },
 "nbformat": 4,
 "nbformat_minor": 4
}
