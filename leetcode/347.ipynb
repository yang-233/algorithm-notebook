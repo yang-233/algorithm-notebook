{
 "cells": [
  {
   "cell_type": "code",
   "execution_count": 1,
   "metadata": {},
   "outputs": [],
   "source": [
    "from typing import *\n",
    "from queue import PriorityQueue"
   ]
  },
  {
   "cell_type": "code",
   "execution_count": 43,
   "metadata": {},
   "outputs": [
    {
     "data": {
      "text/plain": [
       "[2, 1]"
      ]
     },
     "execution_count": 43,
     "metadata": {},
     "output_type": "execute_result"
    }
   ],
   "source": [
    "class Cmp:\n",
    "        def __init__(self, num, count):\n",
    "            self.num = num\n",
    "            self.count = count\n",
    "\n",
    "        def __lt__(self, other):\n",
    "            return self.count < other.count\n",
    "class Solution:\n",
    "    def topKFrequent(self, nums: List[int], k: int) -> List[int]:\n",
    "        from queue import PriorityQueue\n",
    "        if nums is None or len(nums) == 0:\n",
    "            return None\n",
    "        count = {}\n",
    "        for i in nums:\n",
    "            count[i] = count.get(i, 0) + 1\n",
    "        pq = PriorityQueue()\n",
    "        for key, val in count.items():\n",
    "            pq.put(Cmp(key, val))\n",
    "            if pq.qsize() > k: # 元素个数大于k 弹出最小的那个\n",
    "                pq.get()\n",
    "        res = []\n",
    "        while pq.qsize() > 0:\n",
    "            res.append(pq.get().num)\n",
    "        return res\n",
    "    \n",
    "nums = [1,1,1,2,2,3]\n",
    "k = 2\n",
    "Solution().topKFrequent(nums, k)"
   ]
  },
  {
   "cell_type": "code",
   "execution_count": 26,
   "metadata": {},
   "outputs": [
    {
     "name": "stdout",
     "output_type": "stream",
     "text": [
      "[1]\n"
     ]
    }
   ],
   "source": [
    "class Solution:\n",
    "    def partition(self, nums, l, r):\n",
    "        key = nums[l]\n",
    "        while l < r:\n",
    "            while l < r and self.count[nums[r]] >= self.count[key]:\n",
    "                r -= 1\n",
    "            nums[l] = nums[r]\n",
    "            while l < r and self.count[nums[l]] <= self.count[key]:\n",
    "                l += 1\n",
    "            nums[r] = nums[l]\n",
    "        nums[l] = key\n",
    "        return l\n",
    "    \n",
    "    def topk(self, nums, l, r, k):\n",
    "        idx = self.partition(nums, l, r)\n",
    "        if idx == k:\n",
    "            return nums[idx]\n",
    "        elif idx > k:\n",
    "            return self.topk(nums, l, idx - 1, k)\n",
    "        else:\n",
    "            return self.topk(nums, idx + 1, r, k)\n",
    "    \n",
    "    def topKFrequent(self, nums: List[int], k: int) -> List[int]:\n",
    "        if nums is None or len(nums) == 0:\n",
    "            return None\n",
    "        self.count = {}\n",
    "        for i in nums:\n",
    "            self.count[i] = self.count.get(i, 0) + 1\n",
    "        a = list(self.count.keys())\n",
    "        n = len(a)\n",
    "        idx = self.topk(a, 0, n - 1, n - k)\n",
    "        return a[n-k:]\n",
    "        \n",
    "nums = [1]\n",
    "k = 1\n",
    "print(Solution().topKFrequent(nums, k))"
   ]
  },
  {
   "cell_type": "code",
   "execution_count": null,
   "metadata": {},
   "outputs": [],
   "source": []
  }
 ],
 "metadata": {
  "kernelspec": {
   "display_name": "Python 3",
   "language": "python",
   "name": "python3"
  },
  "language_info": {
   "codemirror_mode": {
    "name": "ipython",
    "version": 3
   },
   "file_extension": ".py",
   "mimetype": "text/x-python",
   "name": "python",
   "nbconvert_exporter": "python",
   "pygments_lexer": "ipython3",
   "version": "3.8.5"
  }
 },
 "nbformat": 4,
 "nbformat_minor": 4
}
