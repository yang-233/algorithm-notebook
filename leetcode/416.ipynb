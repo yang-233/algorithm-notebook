{
 "cells": [
  {
   "cell_type": "code",
   "execution_count": 5,
   "metadata": {},
   "outputs": [],
   "source": [
    "from typing import *"
   ]
  },
  {
   "cell_type": "code",
   "execution_count": 75,
   "metadata": {},
   "outputs": [],
   "source": [
    "class Solution:\n",
    "    \n",
    "    def canPartition(self, nums: List[int]) -> bool:\n",
    "        if nums == None or len(nums) < 2:\n",
    "            return False\n",
    "        _sum = sum(nums)\n",
    "        if _sum % 2 == 1:\n",
    "            return False\n",
    "        _sum //= 2\n",
    "        n = len(nums)\n",
    "        dp = [False] * (_sum + 1)\n",
    "        dp[0] = True\n",
    "        for i in range(n):\n",
    "            for j in range(_sum, nums[i] - 1, -1):\n",
    "                dp[j] = dp[j] or dp[j - nums[i]] # 选择第i个数或者不选第i个数\n",
    "                print(i, j, dp)\n",
    "        return dp[_sum] # 检查是否能够组成 _sum //2"
   ]
  },
  {
   "cell_type": "code",
   "execution_count": 76,
   "metadata": {},
   "outputs": [
    {
     "name": "stdout",
     "output_type": "stream",
     "text": [
      "0 4 [True, False, False, False, False]\n",
      "0 3 [True, False, False, False, False]\n",
      "0 2 [True, False, False, False, False]\n",
      "0 1 [True, True, False, False, False]\n",
      "1 4 [True, True, False, False, False]\n",
      "1 3 [True, True, False, True, False]\n",
      "1 2 [True, True, True, True, False]\n"
     ]
    },
    {
     "data": {
      "text/plain": [
       "False"
      ]
     },
     "execution_count": 76,
     "metadata": {},
     "output_type": "execute_result"
    }
   ],
   "source": [
    "nums = [1, 2, 5]\n",
    "s = Solution()\n",
    "s.canPartition(nums)"
   ]
  },
  {
   "cell_type": "code",
   "execution_count": 64,
   "metadata": {},
   "outputs": [
    {
     "data": {
      "text/plain": [
       "[10, 9, 8, 7, 6, 5, 4, 3, 2]"
      ]
     },
     "execution_count": 64,
     "metadata": {},
     "output_type": "execute_result"
    }
   ],
   "source": [
    "list(range(10, 1, -1))"
   ]
  },
  {
   "cell_type": "code",
   "execution_count": null,
   "metadata": {},
   "outputs": [],
   "source": []
  }
 ],
 "metadata": {
  "kernelspec": {
   "display_name": "Python 3",
   "language": "python",
   "name": "python3"
  },
  "language_info": {
   "codemirror_mode": {
    "name": "ipython",
    "version": 3
   },
   "file_extension": ".py",
   "mimetype": "text/x-python",
   "name": "python",
   "nbconvert_exporter": "python",
   "pygments_lexer": "ipython3",
   "version": "3.8.5"
  }
 },
 "nbformat": 4,
 "nbformat_minor": 4
}
