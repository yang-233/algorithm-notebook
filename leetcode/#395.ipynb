{
 "cells": [
  {
   "cell_type": "markdown",
   "metadata": {},
   "source": [
    "```\n",
    "class Solution {\n",
    "public:\n",
    "    int dfs(const string& s, int l, int r, int k) {\n",
    "        vector<int> cnt(26, 0);\n",
    "        for (int i = l; i <= r; i++) \n",
    "            cnt[s[i] - 'a']++;\n",
    "        \n",
    "        char split = 0;\n",
    "        for (int i = 0; i < 26; i++) { // 找到第一个出现次数小于k的字母\n",
    "            if (cnt[i] > 0 && cnt[i] < k) {\n",
    "                split = i + 'a';\n",
    "                break;\n",
    "            }\n",
    "        }\n",
    "        if (split == 0) // 没有找到出现次数小于k的字母\n",
    "            return r - l + 1;\n",
    "        \n",
    "        int i = l;\n",
    "        int ret = 0;\n",
    "        while (i <= r) {\n",
    "            while (i <= r && s[i] == split)  // 找起点\n",
    "                i++;\n",
    "            \n",
    "            if (i > r) \n",
    "                break;\n",
    "            \n",
    "            int start = i;\n",
    "            while (i <= r && s[i] != split)  // 找终点\n",
    "                i++;\n",
    "            \n",
    "            int length = dfs(s, start, i - 1, k);\n",
    "            ret = max(ret, length);\n",
    "        }\n",
    "        return ret;\n",
    "    }\n",
    "\n",
    "    int longestSubstring(string s, int k) {\n",
    "        int n = s.length();\n",
    "        return dfs(s, 0, n - 1, k);\n",
    "    }\n",
    "};\n",
    "\n",
    "```"
   ]
  },
  {
   "cell_type": "code",
   "execution_count": null,
   "metadata": {},
   "outputs": [],
   "source": []
  }
 ],
 "metadata": {
  "kernelspec": {
   "display_name": "Python 3",
   "language": "python",
   "name": "python3"
  },
  "language_info": {
   "codemirror_mode": {
    "name": "ipython",
    "version": 3
   },
   "file_extension": ".py",
   "mimetype": "text/x-python",
   "name": "python",
   "nbconvert_exporter": "python",
   "pygments_lexer": "ipython3",
   "version": "3.8.3"
  }
 },
 "nbformat": 4,
 "nbformat_minor": 4
}
