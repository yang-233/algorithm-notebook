{
 "cells": [
  {
   "cell_type": "code",
   "execution_count": 1,
   "metadata": {},
   "outputs": [],
   "source": [
    "from typing import *"
   ]
  },
  {
   "cell_type": "code",
   "execution_count": 13,
   "metadata": {},
   "outputs": [
    {
     "data": {
      "text/plain": [
       "20"
      ]
     },
     "execution_count": 13,
     "metadata": {},
     "output_type": "execute_result"
    }
   ],
   "source": [
    "class Solution:\n",
    "    def coinChange(self, coins: List[int], amount: int) -> int:\n",
    "        if len(coins) == 0 or amount < 0:\n",
    "            return - 1\n",
    "        INF = int(1e15)\n",
    "        dp = [0] + [INF] * amount\n",
    "#         print(dp)\n",
    "        for i in range(1, amount + 1):\n",
    "            for j in coins:\n",
    "                if i >= j:\n",
    "                    dp[i] = min(dp[i], dp[i - j] + 1)\n",
    "        if dp[amount] == INF:\n",
    "            return -1\n",
    "        else:\n",
    "            return dp[amount]\n",
    "coins = [186,419,83,408]\n",
    "amount = 6249\n",
    "Solution().coinChange(coins, amount)"
   ]
  },
  {
   "cell_type": "code",
   "execution_count": null,
   "metadata": {},
   "outputs": [],
   "source": []
  }
 ],
 "metadata": {
  "kernelspec": {
   "display_name": "Python 3",
   "language": "python",
   "name": "python3"
  },
  "language_info": {
   "codemirror_mode": {
    "name": "ipython",
    "version": 3
   },
   "file_extension": ".py",
   "mimetype": "text/x-python",
   "name": "python",
   "nbconvert_exporter": "python",
   "pygments_lexer": "ipython3",
   "version": "3.8.5"
  }
 },
 "nbformat": 4,
 "nbformat_minor": 4
}
