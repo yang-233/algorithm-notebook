{
 "cells": [
  {
   "cell_type": "code",
   "execution_count": 1,
   "metadata": {},
   "outputs": [],
   "source": [
    "from typing import *"
   ]
  },
  {
   "cell_type": "code",
   "execution_count": null,
   "metadata": {},
   "outputs": [],
   "source": [
    "## 使用带权并查集，分母做父亲， 对每个查询判断是否在联通，如果联通则\n",
    "## 权值保存着当前元素处于该集合根得到的值\n",
    "## 要注意出现 同一个分子除过两个分母时如何更新"
   ]
  },
  {
   "cell_type": "code",
   "execution_count": 68,
   "metadata": {},
   "outputs": [],
   "source": [
    "class Solution:\n",
    "    \n",
    "    def __init__(self):\n",
    "        self.father = {}\n",
    "        self.value = {}\n",
    "    \n",
    "    def find(self, a): # 找a的祖先\n",
    "        fa = self.father[a]\n",
    "        ffa = self.father[fa]\n",
    "        while fa != ffa: # 当fa == fa 说明fa已经是根， 无法继续压缩路径\n",
    "            self.father[a] = ffa # 父亲更新 向上更新一级\n",
    "            self.value[a] *= self.value[fa] # 权值更新\n",
    "            fa = ffa\n",
    "            ffa = self.father[fa]\n",
    "        return fa, self.value[a] # 返回根和对应的值\n",
    "    \n",
    "    def union(self, eq: List[str], value:float):\n",
    "        f0, v0 = self.find(eq[0])\n",
    "        self.father[f0] = eq[1] #\n",
    "        self.value[f0] = value / self.value[eq[0]] # 让祖先和分子都除以新的分母\n",
    "        self.father[eq[0]] = eq[1]\n",
    "        self.value[eq[0]] = value\n",
    "        \n",
    "    def calcEquation(self, equations: List[List[str]], values: List[float], \n",
    "        queries: List[List[str]]) -> List[float]:\n",
    "        ## init\n",
    "        for eq in equations:\n",
    "            self.father[eq[0]] = eq[0]\n",
    "            self.father[eq[1]] = eq[1]\n",
    "            self.value[eq[0]] = self.value[eq[1]] = 1.0\n",
    "        \n",
    "        for eq, val in zip(equations, values):\n",
    "            self.union(eq, val)\n",
    "            \n",
    "        res = []\n",
    "        for q in queries:\n",
    "            if q[0] not in self.father or q[1] not in self.father: # 出现未出现在集合中的元素则直接返回-1\n",
    "                res.append(-1.0)\n",
    "                continue\n",
    "            f0, v0 = self.find(q[0])\n",
    "            f1, v1 = self.find(q[1])\n",
    "            if f0 != f1: # 两者没有相同的分母\n",
    "                res.append(-1)\n",
    "            else:\n",
    "                res.append(v0 / v1)\n",
    "        return res\n",
    "        "
   ]
  },
  {
   "cell_type": "code",
   "execution_count": 69,
   "metadata": {},
   "outputs": [
    {
     "data": {
      "text/plain": [
       "[1.1333333333333333,\n",
       " 16.8,\n",
       " 1.5,\n",
       " 1.0,\n",
       " 0.05952380952380952,\n",
       " 2.2666666666666666,\n",
       " 0.4411764705882353,\n",
       " -1.0,\n",
       " -1.0]"
      ]
     },
     "execution_count": 69,
     "metadata": {},
     "output_type": "execute_result"
    }
   ],
   "source": [
    "equations =  [[\"x1\",\"x2\"],[\"x2\",\"x3\"],[\"x1\",\"x4\"],[\"x2\",\"x5\"]]\n",
    "values =  [3.0,0.5,3.4,5.6]\n",
    "queries = [[\"x2\",\"x4\"],[\"x1\",\"x5\"],[\"x1\",\"x3\"],[\"x5\",\"x5\"],[\"x5\",\"x1\"],[\"x3\",\"x4\"],[\"x4\",\"x3\"],[\"x6\",\"x6\"],[\"x0\",\"x0\"]]\n",
    "s = Solution()\n",
    "s.calcEquation(equations, values, queries)"
   ]
  },
  {
   "cell_type": "code",
   "execution_count": 61,
   "metadata": {},
   "outputs": [],
   "source": [
    "# def str2dict(s:str):\n",
    "#     d = {}\n",
    "#     for i in s:\n",
    "#         d[i] = d.get(i, 0) + 1\n",
    "#     return d\n",
    "# def dict_mul(d1, d2):\n",
    "#     for key, val in d2.items():\n",
    "#         d1[key] = d1.get(key, 0) + val\n",
    "#     return d1\n",
    "\n",
    "# class Value:\n",
    "#     def __init__(self, expression:List[str or dict]=None, val:float=-1.0):\n",
    "#         if expression == None:\n",
    "#             self.numerator = None\n",
    "#             self.denominator = None\n",
    "#         else:\n",
    "#             self.numerator = str2dict(expression[0])\n",
    "#             self.denominator = str2dict(expression[1])\n",
    "#         self.value = val\n",
    "        \n",
    "#     def __repr__(self):\n",
    "#         return \"%s(%r)\" % (self.__class__, self.__dict__)\n",
    "#     def __eq__(self, val):\n",
    "#         return self.numerator == val.numerator and self.denominator == val.denominator\n",
    "    \n",
    "#     def reduce(self): # 约分\n",
    "#         for key in list(self.numerator.keys()):\n",
    "#             if key in self.denominator:\n",
    "#                 v = min(self.numerator[key], self.denominator[key])\n",
    "#                 self.numerator[key] -= v\n",
    "#                 self.denominator[key] -= v\n",
    "#                 if self.numerator[key] <= 0:\n",
    "#                     self.numerator.pop(key)\n",
    "#                 if self.denominator[key] == 0:\n",
    "#                     self.denominator.pop(key)\n",
    "#         return self\n",
    "    \n",
    "#     def __mul__(self, val):\n",
    "#         res = Value()\n",
    "#         res.numerator = dict_mul(self.numerator, val.numerator)\n",
    "#         res.denominator = dict_mul(self.denominator, val.denominator)\n",
    "#         res.reduce()\n",
    "#         if self.value == -1.0 or val.value == -1.0:\n",
    "#             res.value = -1.0\n",
    "#         else:\n",
    "#             res.value = self.value * val.value\n",
    "#         return res\n",
    "    \n",
    "#     def __truediv__(self, val):\n",
    "#         res = Value()\n",
    "#         res.numerator = dict_mul(self.numerator, val.denominator)\n",
    "#         res.denominator = dict_mul(self.denominator, val.numerator)\n",
    "#         res.reduce()\n",
    "#         if self.value == -1.0 or val.value == -1.0:\n",
    "#             res.value = -1.0\n",
    "#         else:\n",
    "#             res.value = self.value / val.value\n",
    "#         return res\n",
    "    \n",
    "    "
   ]
  },
  {
   "cell_type": "code",
   "execution_count": null,
   "metadata": {},
   "outputs": [],
   "source": []
  }
 ],
 "metadata": {
  "kernelspec": {
   "display_name": "Python 3",
   "language": "python",
   "name": "python3"
  },
  "language_info": {
   "codemirror_mode": {
    "name": "ipython",
    "version": 3
   },
   "file_extension": ".py",
   "mimetype": "text/x-python",
   "name": "python",
   "nbconvert_exporter": "python",
   "pygments_lexer": "ipython3",
   "version": "3.8.5"
  }
 },
 "nbformat": 4,
 "nbformat_minor": 4
}
