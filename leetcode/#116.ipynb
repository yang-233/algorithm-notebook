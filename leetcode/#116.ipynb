{
 "cells": [
  {
   "cell_type": "code",
   "execution_count": 1,
   "metadata": {},
   "outputs": [],
   "source": [
    "\"\"\"\n",
    "# Definition for a Node.\n",
    "class Node:\n",
    "    def __init__(self, val: int = 0, left: 'Node' = None, right: 'Node' = None, next: 'Node' = None):\n",
    "        self.val = val\n",
    "        self.left = left\n",
    "        self.right = right\n",
    "        self.next = next\n",
    "\"\"\"\n",
    "\n",
    "class Solution:\n",
    "\n",
    "    def connect(self, root: 'Node') -> 'Node':\n",
    "        if root is None:\n",
    "            return None\n",
    "        most_left = root\n",
    "        while most_left.left:\n",
    "            p = most_left\n",
    "            while p: # 使用链表来遍历每一层\n",
    "                p.left.next = p.right\n",
    "                if p.next:\n",
    "                    p.right.next = p.next.left\n",
    "                p = p.next\n",
    "\n",
    "            most_left = most_left.left # 进入到下一层\n",
    "\n",
    "        return root\n",
    "\n",
    "# 题目已经暗示了以链表形式来遍历"
   ]
  },
  {
   "cell_type": "code",
   "execution_count": null,
   "metadata": {},
   "outputs": [],
   "source": []
  }
 ],
 "metadata": {
  "kernelspec": {
   "display_name": "Python 3",
   "language": "python",
   "name": "python3"
  },
  "language_info": {
   "codemirror_mode": {
    "name": "ipython",
    "version": 3
   },
   "file_extension": ".py",
   "mimetype": "text/x-python",
   "name": "python",
   "nbconvert_exporter": "python",
   "pygments_lexer": "ipython3",
   "version": "3.8.5"
  }
 },
 "nbformat": 4,
 "nbformat_minor": 4
}
