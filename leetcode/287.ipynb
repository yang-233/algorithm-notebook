{
 "cells": [
  {
   "cell_type": "code",
   "execution_count": 1,
   "metadata": {},
   "outputs": [],
   "source": [
    "from typing import *"
   ]
  },
  {
   "cell_type": "code",
   "execution_count": 31,
   "metadata": {},
   "outputs": [
    {
     "data": {
      "text/plain": [
       "3"
      ]
     },
     "execution_count": 31,
     "metadata": {},
     "output_type": "execute_result"
    }
   ],
   "source": [
    "class Solution:\n",
    "    def findDuplicate(self, nums: List[int]) -> int:\n",
    "        n = len(nums)\n",
    "        if n < 2:\n",
    "            return None\n",
    "        l, r = 1, n - 1\n",
    "        mid = -1\n",
    "        while l <= r:\n",
    "            mid = (l + r) // 2\n",
    "            if l == r:\n",
    "                break\n",
    "            count = 0\n",
    "            for i in nums:\n",
    "                if l <= i <= mid:\n",
    "                    count += 1\n",
    "            if count > (mid - l + 1):\n",
    "                r = mid\n",
    "            else:\n",
    "                l = mid + 1\n",
    "        return mid\n",
    "nums = [3,1,3,4,2]\n",
    "Solution().findDuplicate(nums)\n",
    "## 建图 连所有i -> nums[i]的边，如果有重复数，则一定会构成环\n",
    "# 从下表为0开始出发 可以理解为找链表的环 使用快慢指针即可"
   ]
  },
  {
   "cell_type": "code",
   "execution_count": 7,
   "metadata": {},
   "outputs": [
    {
     "data": {
      "text/plain": [
       "-1"
      ]
     },
     "execution_count": 7,
     "metadata": {},
     "output_type": "execute_result"
    }
   ],
   "source": [
    "class Solution:\n",
    "    def findDuplicate(self, nums: List[int]) -> int:\n",
    "        n = len(nums)\n",
    "        if n < 2:\n",
    "            return None\n",
    "        c = -1\n",
    "        for i in range(n):\n",
    "            s = nums[i]\n",
    "            if s != nums[s] or s != c :\n",
    "                c = nums[s]\n",
    "            else:\n",
    "                return s\n",
    "        return -1\n",
    "\n",
    "nums = [1,3,4,2,2]\n",
    "Solution().findDuplicate(nums)\n",
    "## 建图 连所有i -> nums[i]的边，如果有重复数，则一定会构成环\n",
    "# 从下表为0开始出发 可以理解为找链表的环 使用快慢指针即可"
   ]
  },
  {
   "cell_type": "code",
   "execution_count": null,
   "metadata": {},
   "outputs": [],
   "source": []
  },
  {
   "cell_type": "code",
   "execution_count": null,
   "metadata": {},
   "outputs": [],
   "source": []
  }
 ],
 "metadata": {
  "kernelspec": {
   "display_name": "Python 3",
   "language": "python",
   "name": "python3"
  },
  "language_info": {
   "codemirror_mode": {
    "name": "ipython",
    "version": 3
   },
   "file_extension": ".py",
   "mimetype": "text/x-python",
   "name": "python",
   "nbconvert_exporter": "python",
   "pygments_lexer": "ipython3",
   "version": "3.8.5"
  }
 },
 "nbformat": 4,
 "nbformat_minor": 4
}
