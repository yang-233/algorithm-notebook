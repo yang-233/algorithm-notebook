{
 "cells": [
  {
   "cell_type": "code",
   "execution_count": 7,
   "metadata": {},
   "outputs": [],
   "source": [
    "from typing import *\n",
    "from functools import cmp_to_key"
   ]
  },
  {
   "cell_type": "code",
   "execution_count": 23,
   "metadata": {},
   "outputs": [
    {
     "name": "stdout",
     "output_type": "stream",
     "text": [
      "[[9, 0], [7, 0], [6, 0], [6, 2], [5, 2], [5, 3], [3, 0], [3, 4], [2, 7], [1, 9]]\n",
      "[[9, 0]]\n",
      "[[7, 0], [9, 0]]\n",
      "[[6, 0], [7, 0], [9, 0]]\n",
      "[[6, 0], [7, 0], [6, 2], [9, 0]]\n",
      "[[6, 0], [7, 0], [5, 2], [6, 2], [9, 0]]\n",
      "[[6, 0], [7, 0], [5, 2], [5, 3], [6, 2], [9, 0]]\n",
      "[[3, 0], [6, 0], [7, 0], [5, 2], [5, 3], [6, 2], [9, 0]]\n",
      "[[3, 0], [6, 0], [7, 0], [5, 2], [3, 4], [5, 3], [6, 2], [9, 0]]\n",
      "[[3, 0], [6, 0], [7, 0], [5, 2], [3, 4], [5, 3], [6, 2], [2, 7], [9, 0]]\n",
      "[[3, 0], [6, 0], [7, 0], [5, 2], [3, 4], [5, 3], [6, 2], [2, 7], [9, 0], [1, 9]]\n"
     ]
    }
   ],
   "source": [
    "class Solution:\n",
    "    ## 本质上是考察插入排序和自定义排序\n",
    "    def cmp(self, a, b):\n",
    "        if a[0] > b[0]:\n",
    "            return -1\n",
    "        elif a[0] < b[0]:\n",
    "            return 1\n",
    "        else:\n",
    "            if a[1] < b[1]:\n",
    "                return -1\n",
    "            else:\n",
    "                return 1\n",
    "    def reconstructQueue(self, people: List[List[int]]) -> List[List[int]]:\n",
    "        if people is None or len(people) == 0:\n",
    "            return []\n",
    "        n = len(people)\n",
    "        people.sort(key=cmp_to_key(self.cmp))\n",
    "        print(people)\n",
    "        res = []\n",
    "        for i, val in enumerate(people):\n",
    "            res.insert(people[i][1], val)\n",
    "            print(res)\n",
    "#         return res\n",
    "people = [[9,0],[7,0],[1,9],[3,0],[2,7],[5,3],[6,0],[3,4],[6,2],[5,2]]\n",
    "Solution().reconstructQueue(people)"
   ]
  },
  {
   "cell_type": "code",
   "execution_count": null,
   "metadata": {},
   "outputs": [],
   "source": [
    "def cmp()"
   ]
  }
 ],
 "metadata": {
  "kernelspec": {
   "display_name": "Python 3",
   "language": "python",
   "name": "python3"
  },
  "language_info": {
   "codemirror_mode": {
    "name": "ipython",
    "version": 3
   },
   "file_extension": ".py",
   "mimetype": "text/x-python",
   "name": "python",
   "nbconvert_exporter": "python",
   "pygments_lexer": "ipython3",
   "version": "3.8.5"
  }
 },
 "nbformat": 4,
 "nbformat_minor": 4
}
