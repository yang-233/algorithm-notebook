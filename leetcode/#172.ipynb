{
 "cells": [
  {
   "cell_type": "markdown",
   "metadata": {},
   "source": [
    "```\n",
    "class Solution {\n",
    "public:\n",
    "\n",
    "    int trailingZeroes(int n) {\n",
    "        int count = 0;\n",
    "        for(int i = 5; i <= n; i += 5) {\n",
    "            int _i = i, ic = 0;\n",
    "            while(_i % 5 == 0) {\n",
    "                ic += 1;\n",
    "                _i /= 5; \n",
    "            }\n",
    "            count += ic;\n",
    "        }\n",
    "        return count;\n",
    "        // long long k = 1; // 这个写法会越界\n",
    "        // for(int i = 1; i <= n; ++i) { // 是因子分解可以分解出i个5出来的数\n",
    "        //     k *= 5;\n",
    "        //     for(int j = 1; j * k <= n; ++j) {\n",
    "        //         count += i;\n",
    "        //     }\n",
    "        // }\n",
    "        // return count;\n",
    "    }\n",
    "};\n",
    "```"
   ]
  },
  {
   "cell_type": "code",
   "execution_count": null,
   "metadata": {},
   "outputs": [],
   "source": []
  }
 ],
 "metadata": {
  "kernelspec": {
   "display_name": "Python 3",
   "language": "python",
   "name": "python3"
  },
  "language_info": {
   "codemirror_mode": {
    "name": "ipython",
    "version": 3
   },
   "file_extension": ".py",
   "mimetype": "text/x-python",
   "name": "python",
   "nbconvert_exporter": "python",
   "pygments_lexer": "ipython3",
   "version": "3.8.5"
  }
 },
 "nbformat": 4,
 "nbformat_minor": 4
}
