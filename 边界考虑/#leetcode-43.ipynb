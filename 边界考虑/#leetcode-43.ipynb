{
 "cells": [
  {
   "cell_type": "markdown",
   "metadata": {},
   "source": [
    "```\n",
    "class Solution {\n",
    "public:\n",
    "    string multiply(string num1, string num2) {\n",
    "        int l1 = num1.size(), l2 = num2.size();\n",
    "        if(!l1 || !l2)\n",
    "            return \"\";\n",
    "        if(l1 < l2) { // num1 始终表示较长数字\n",
    "            swap(num1, num2);\n",
    "            swap(l1, l2);\n",
    "        }\n",
    "        reverse(num1.begin(), num1.end());\n",
    "        reverse(num2.begin(), num2.end());\n",
    "        vector<int> res(l1 + l2, 0); // 最多的位数\n",
    "\n",
    "        for(int i = 0; i < l2; i++) \n",
    "            for(int j = 0; j < l1; j++) \n",
    "                res[i + j] += (num2[i] - '0') * (num1[j] - '0');\n",
    "        for(int i = 0; i < l1 + l2 - 1; i++) {\n",
    "            if(res[i] >= 10) {\n",
    "                res[i + 1] += res[i] / 10; // 进位\n",
    "                res[i] %= 10;\n",
    "            }\n",
    "        }\n",
    "        reverse(res.begin(), res.end());\n",
    "        string res_s = \"\";\n",
    "        int i = 0;\n",
    "        for(;i < res.size() && !res[i]; i++);\n",
    "        if(i >= l1 + l2)\n",
    "            return \"0\";\n",
    "        for(;i < res.size(); i++)\n",
    "            res_s += '0' + res[i];\n",
    "        return res_s;\n",
    "    }\n",
    "};\n",
    "```"
   ]
  },
  {
   "cell_type": "code",
   "execution_count": null,
   "metadata": {},
   "outputs": [],
   "source": []
  }
 ],
 "metadata": {
  "kernelspec": {
   "display_name": "Python 3",
   "language": "python",
   "name": "python3"
  },
  "language_info": {
   "codemirror_mode": {
    "name": "ipython",
    "version": 3
   },
   "file_extension": ".py",
   "mimetype": "text/x-python",
   "name": "python",
   "nbconvert_exporter": "python",
   "pygments_lexer": "ipython3",
   "version": "3.8.5"
  }
 },
 "nbformat": 4,
 "nbformat_minor": 4
}
