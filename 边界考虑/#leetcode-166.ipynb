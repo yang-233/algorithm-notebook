{
 "cells": [
  {
   "cell_type": "code",
   "execution_count": 1,
   "metadata": {},
   "outputs": [],
   "source": [
    "from typing import *"
   ]
  },
  {
   "cell_type": "code",
   "execution_count": 56,
   "metadata": {},
   "outputs": [],
   "source": [
    "class Solution:\n",
    "    def fractionToDecimal(self, numerator: int, denominator: int) -> str:\n",
    "        if numerator == 0:\n",
    "            return \"0\"\n",
    "        res = \"\"\n",
    "        if numerator * denominator < 0: # 负数先变成正数处理\n",
    "            res += \"-\"\n",
    "        numerator = abs(numerator)\n",
    "        denominator = abs(denominator)\n",
    "\n",
    "        if numerator == denominator:\n",
    "            return res + \"1\"   \n",
    "\n",
    "        int2str = [str(i) for i in range(10)]\n",
    "       \n",
    "        ans = {}\n",
    "        if numerator > denominator:\n",
    "            res += str(numerator // denominator)\n",
    "            numerator =  numerator % denominator\n",
    "            if numerator == 0: # 后面只处理小数部分\n",
    "                return res\n",
    "        else:\n",
    "            res += \"0\"\n",
    "        \n",
    "        res += \".\"\n",
    "        m = len(res) - 1\n",
    "        while numerator and numerator not in ans:\n",
    "            m += 1\n",
    "            ans[numerator] = m\n",
    "            numerator *= 10\n",
    "            res += int2str[numerator // denominator]\n",
    "            numerator %= denominator\n",
    "        \n",
    "        if numerator in ans:\n",
    "            res = res[:ans[numerator]] + \"(\" + res[ans[numerator]:] + \")\"\n",
    "        return res   "
   ]
  },
  {
   "cell_type": "code",
   "execution_count": 57,
   "metadata": {},
   "outputs": [],
   "source": [
    "## 好好模拟下手除法"
   ]
  },
  {
   "cell_type": "code",
   "execution_count": null,
   "metadata": {},
   "outputs": [],
   "source": []
  }
 ],
 "metadata": {
  "kernelspec": {
   "display_name": "Python 3",
   "language": "python",
   "name": "python3"
  },
  "language_info": {
   "codemirror_mode": {
    "name": "ipython",
    "version": 3
   },
   "file_extension": ".py",
   "mimetype": "text/x-python",
   "name": "python",
   "nbconvert_exporter": "python",
   "pygments_lexer": "ipython3",
   "version": "3.8.5"
  }
 },
 "nbformat": 4,
 "nbformat_minor": 4
}
