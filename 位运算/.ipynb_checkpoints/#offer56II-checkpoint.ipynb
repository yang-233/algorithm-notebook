{
 "cells": [
  {
   "cell_type": "markdown",
   "metadata": {},
   "source": [
    "```\n",
    "class Solution {\n",
    "public:\n",
    "    int singleNumber(vector<int>& nums) {\n",
    "        int ans = 0;\n",
    "        for(int i = 0; i < 32; ++i){\n",
    "            int cnt = 0;\n",
    "            for(int n : nums)\n",
    "                if(n & (1 << i))  // n & 1 << i 的值大于0即为真\n",
    "                    cnt++;\n",
    "            if(cnt % 3 == 1) // 构造只出现一次的那个数字，采用或的方法生成二进制中的每一位\n",
    "                ans |= (1 << i);\n",
    "        }\n",
    "        return ans;\n",
    "    }\n",
    "};\n",
    "```"
   ]
  },
  {
   "cell_type": "code",
   "execution_count": null,
   "metadata": {},
   "outputs": [],
   "source": []
  }
 ],
 "metadata": {
  "kernelspec": {
   "display_name": "Python 3",
   "language": "python",
   "name": "python3"
  },
  "language_info": {
   "codemirror_mode": {
    "name": "ipython",
    "version": 3
   },
   "file_extension": ".py",
   "mimetype": "text/x-python",
   "name": "python",
   "nbconvert_exporter": "python",
   "pygments_lexer": "ipython3",
   "version": "3.8.3"
  }
 },
 "nbformat": 4,
 "nbformat_minor": 4
}
