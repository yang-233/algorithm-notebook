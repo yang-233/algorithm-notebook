{
 "cells": [
  {
   "cell_type": "markdown",
   "metadata": {},
   "source": [
    "```\n",
    "class Solution {\n",
    "public:\n",
    "    vector<int> singleNumbers(vector<int>& nums) {\n",
    "        int ret = 0;\n",
    "        for (int n : nums)\n",
    "            ret ^= n;\n",
    "        int div = 1;\n",
    "        while ((div & ret) == 0) \n",
    "            div <<= 1;\n",
    "        int a = 0, b = 0;\n",
    "        for (int n : nums) // 根据某一二进制为0或为1 进行分组 求异或\n",
    "            if (div & n)\n",
    "                a ^= n;\n",
    "            else\n",
    "                b ^= n;\n",
    "        return vector<int>{a, b};\n",
    "    }\n",
    "};\n",
    "\n",
    "```"
   ]
  },
  {
   "cell_type": "code",
   "execution_count": 1,
   "metadata": {},
   "outputs": [],
   "source": [
    "# 好好看看题解"
   ]
  },
  {
   "cell_type": "code",
   "execution_count": null,
   "metadata": {},
   "outputs": [],
   "source": []
  }
 ],
 "metadata": {
  "kernelspec": {
   "display_name": "Python 3",
   "language": "python",
   "name": "python3"
  },
  "language_info": {
   "codemirror_mode": {
    "name": "ipython",
    "version": 3
   },
   "file_extension": ".py",
   "mimetype": "text/x-python",
   "name": "python",
   "nbconvert_exporter": "python",
   "pygments_lexer": "ipython3",
   "version": "3.8.3"
  }
 },
 "nbformat": 4,
 "nbformat_minor": 4
}
