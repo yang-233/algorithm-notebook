{
 "cells": [
  {
   "cell_type": "markdown",
   "metadata": {},
   "source": [
    "```\n",
    "class Solution {\n",
    "public:\n",
    "    bool isMatch(string s, string p) {\n",
    "        int n = s.size(), m = p.size();\n",
    "        vector<vector<bool>> dp(n + 1, vector<bool>(m + 1, false));\n",
    "        dp[0][0] = true;\n",
    "        for(int j = 2; j <= m; j++)\n",
    "            dp[0][j] = (p[j - 1] == '*' && dp[0][j - 2]);// 抵消掉前面的那个字符\n",
    "        for(int i = 1; i <= n; i++)\n",
    "            for(int j = 1; j <= m; j++) {\n",
    "                if(p[j - 1] == '*')// 因为题目保障了*不会出现在开头 所以可以不用考虑越界问题\n",
    "                    dp[i][j] = dp[i][j - 2] || // 忽略掉前面的字符\n",
    "                                (s[i - 1] == p[j - 2] || p[j - 2] == '.') && dp[i - 1][j]; // 贪心匹配尽可能长\n",
    "                else\n",
    "                    dp[i][j] = (s[i - 1] == p[j - 1] || p[j - 1] == '.') && dp[i - 1][j - 1];\n",
    "            }\n",
    "        return dp[n][m];\n",
    "    }\n",
    "}; \n",
    "```"
   ]
  },
  {
   "cell_type": "code",
   "execution_count": null,
   "metadata": {},
   "outputs": [],
   "source": [
    "# 贪心匹配那部分想想清楚 并不需要从头遍历一次"
   ]
  }
 ],
 "metadata": {
  "kernelspec": {
   "display_name": "Python 3",
   "language": "python",
   "name": "python3"
  },
  "language_info": {
   "codemirror_mode": {
    "name": "ipython",
    "version": 3
   },
   "file_extension": ".py",
   "mimetype": "text/x-python",
   "name": "python",
   "nbconvert_exporter": "python",
   "pygments_lexer": "ipython3",
   "version": "3.8.3"
  }
 },
 "nbformat": 4,
 "nbformat_minor": 4
}
