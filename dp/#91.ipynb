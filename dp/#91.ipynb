{
 "cells": [
  {
   "cell_type": "code",
   "execution_count": 1,
   "metadata": {},
   "outputs": [],
   "source": [
    "class Solution:\n",
    "    def numDecodings(self, s: str) -> int:\n",
    "        # 处理前置0\n",
    "        n = len(s)\n",
    "        if n == 0:\n",
    "            return 0\n",
    "        dp = [0, 1]\n",
    "        _set = set([str(i) for i in range(10, 27)])\n",
    "        for i in range(n): # dp[-1] 表示从当前位置为一个解码单元的解决方法数\n",
    "                            # dp[-2] 表示从上一个单位为解码单元的解决方案数\n",
    "            ans = 0\n",
    "            if s[i] != '0': # 可以单字母解码\n",
    "                ans += dp[-1]\n",
    "            if s[i-1:i+1] in _set: # 可以和上一个字母一起解码\n",
    "                ans += dp[-2]\n",
    "            dp.append(ans)\n",
    "        print(dp)\n",
    "        return dp[-1]"
   ]
  },
  {
   "cell_type": "markdown",
   "metadata": {},
   "source": [
    "# 想清楚转移公式再写代码！！！\n",
    "## 要把边界情况考虑好"
   ]
  },
  {
   "cell_type": "code",
   "execution_count": null,
   "metadata": {},
   "outputs": [],
   "source": []
  }
 ],
 "metadata": {
  "kernelspec": {
   "display_name": "Python 3",
   "language": "python",
   "name": "python3"
  },
  "language_info": {
   "codemirror_mode": {
    "name": "ipython",
    "version": 3
   },
   "file_extension": ".py",
   "mimetype": "text/x-python",
   "name": "python",
   "nbconvert_exporter": "python",
   "pygments_lexer": "ipython3",
   "version": "3.8.5"
  }
 },
 "nbformat": 4,
 "nbformat_minor": 4
}
