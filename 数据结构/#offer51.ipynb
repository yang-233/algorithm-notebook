{
 "cells": [
  {
   "cell_type": "markdown",
   "metadata": {},
   "source": [
    "```\n",
    "class BIT {\n",
    "private:\n",
    "    vector<int> tree;\n",
    "    int n;\n",
    "\n",
    "public:\n",
    "    BIT(int _n): n(_n), tree(_n + 1) {}\n",
    "\n",
    "    static int lowbit(int x) {\n",
    "        return x & (-x);\n",
    "    }\n",
    "\n",
    "    int query(int x) {\n",
    "        int ret = 0;\n",
    "        while (x) {\n",
    "            ret += tree[x];\n",
    "            x -= lowbit(x);\n",
    "        }\n",
    "        return ret;\n",
    "    }\n",
    "\n",
    "    void update(int x) {\n",
    "        while (x <= n) {\n",
    "            ++tree[x];\n",
    "            x += lowbit(x);\n",
    "        }\n",
    "    }\n",
    "};\n",
    "\n",
    "class Solution {\n",
    "public:\n",
    "    int reversePairs(vector<int>& nums) {\n",
    "        int n = nums.size();\n",
    "        vector<int> tmp = nums;\n",
    "        // 离散化\n",
    "        sort(tmp.begin(), tmp.end());\n",
    "        for (int& num: nums) {\n",
    "            num = lower_bound(tmp.begin(), tmp.end(), num) - tmp.begin() + 1;\n",
    "        }\n",
    "        // 树状数组统计逆序对\n",
    "        BIT bit(n);\n",
    "        int ans = 0;\n",
    "        for (int i = n - 1; i >= 0; --i) {\n",
    "            ans += bit.query(nums[i] - 1);\n",
    "            bit.update(nums[i]);\n",
    "        }\n",
    "        return ans;\n",
    "    }\n",
    "};\n",
    "\n",
    "```"
   ]
  },
  {
   "cell_type": "code",
   "execution_count": null,
   "metadata": {},
   "outputs": [],
   "source": []
  }
 ],
 "metadata": {
  "kernelspec": {
   "display_name": "Python 3",
   "language": "python",
   "name": "python3"
  },
  "language_info": {
   "codemirror_mode": {
    "name": "ipython",
    "version": 3
   },
   "file_extension": ".py",
   "mimetype": "text/x-python",
   "name": "python",
   "nbconvert_exporter": "python",
   "pygments_lexer": "ipython3",
   "version": "3.8.3"
  }
 },
 "nbformat": 4,
 "nbformat_minor": 4
}
