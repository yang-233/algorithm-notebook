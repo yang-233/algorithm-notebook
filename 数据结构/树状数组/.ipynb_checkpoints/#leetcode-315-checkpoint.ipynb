{
 "cells": [
  {
   "cell_type": "code",
   "execution_count": 1,
   "metadata": {},
   "outputs": [],
   "source": [
    "from typing import *"
   ]
  },
  {
   "cell_type": "code",
   "execution_count": 2,
   "metadata": {},
   "outputs": [],
   "source": [
    "import copy"
   ]
  },
  {
   "cell_type": "code",
   "execution_count": 27,
   "metadata": {},
   "outputs": [],
   "source": [
    "class Solution:\n",
    "    @staticmethod\n",
    "    def binary_search(a, l, r, val):\n",
    "        idx = -1\n",
    "        while l <= r:\n",
    "            mid = (l + r) // 2\n",
    "            if a[mid] == val:\n",
    "                idx = mid\n",
    "                r = mid - 1\n",
    "            elif a[mid] > val:\n",
    "                r = mid - 1\n",
    "            else:\n",
    "                l = mid + 1\n",
    "        return idx\n",
    "    \n",
    "    def countSmaller(self, nums: List[int]) -> List[int]:\n",
    "        if not nums:\n",
    "            return None\n",
    "        n = len(nums)\n",
    "        temp = copy.deepcopy(nums)\n",
    "        temp.sort()\n",
    "        a = []\n",
    "        for i in nums: # 离散化\n",
    "            a.append(self.binary_search(temp, 0, n - 1, i) + 1)\n",
    "        class Bit:\n",
    "            @staticmethod\n",
    "            def lowbit(x):\n",
    "                return x & (-x)\n",
    "            \n",
    "            def __init__(self, n):\n",
    "                self.n = n\n",
    "                self.a = [0 for _ in range(n + 1)]\n",
    "\n",
    "            def query(self, x):\n",
    "                res = 0\n",
    "                while x > 0:\n",
    "                    res += self.a[x]\n",
    "                    x -= self.lowbit(x)\n",
    "                return res\n",
    "\n",
    "            def update(self, x, val=1):\n",
    "                while x <= self.n:\n",
    "                    self.a[x] += val\n",
    "                    x += self.lowbit(x)\n",
    "                    \n",
    "        bit = Bit(n)\n",
    "        res = [0 for _ in range(n)]\n",
    "        for i in range(n - 1, -1, -1):\n",
    "            res[i] = bit.query(a[i] - 1)\n",
    "            bit.update(a[i])\n",
    "        return res"
   ]
  },
  {
   "cell_type": "code",
   "execution_count": 28,
   "metadata": {},
   "outputs": [
    {
     "name": "stdout",
     "output_type": "stream",
     "text": [
      "[4, 2, 2, 1]\n"
     ]
    },
    {
     "data": {
      "text/plain": [
       "[0, 0, 0, 0]"
      ]
     },
     "execution_count": 28,
     "metadata": {},
     "output_type": "execute_result"
    }
   ],
   "source": [
    "nums = [5,2,2,1]\n",
    "s.countSmaller(nums)"
   ]
  },
  {
   "cell_type": "code",
   "execution_count": null,
   "metadata": {},
   "outputs": [],
   "source": []
  }
 ],
 "metadata": {
  "kernelspec": {
   "display_name": "Python 3",
   "language": "python",
   "name": "python3"
  },
  "language_info": {
   "codemirror_mode": {
    "name": "ipython",
    "version": 3
   },
   "file_extension": ".py",
   "mimetype": "text/x-python",
   "name": "python",
   "nbconvert_exporter": "python",
   "pygments_lexer": "ipython3",
   "version": "3.8.3"
  }
 },
 "nbformat": 4,
 "nbformat_minor": 4
}
