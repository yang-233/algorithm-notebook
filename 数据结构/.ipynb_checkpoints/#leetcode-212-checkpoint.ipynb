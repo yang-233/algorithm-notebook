{
 "cells": [
  {
   "cell_type": "code",
   "execution_count": null,
   "metadata": {},
   "outputs": [],
   "source": [
    "class Solution:\n",
    "    def findWords(self, board: List[List[str]], words: List[str]) -> List[str]:\n",
    "        \n",
    "        # 这个几行建立trie树的代码学习起来\n",
    "        WORD_KEY = '$'\n",
    "        trie = {}\n",
    "        for word in words:\n",
    "            node = trie\n",
    "            for letter in word:\n",
    "                # retrieve the next node; If not found, create a empty node.\n",
    "                node = node.setdefault(letter, {})\n",
    "            # mark the existence of a word in trie node\n",
    "            node[WORD_KEY] = word\n",
    "        \n",
    "        rowNum = len(board)\n",
    "        colNum = len(board[0])\n",
    "        matchedWords = []\n",
    "\n",
    "        def backtracking(row, col, parent):    \n",
    "            letter = board[row][col]\n",
    "            currNode = parent[letter]\n",
    "            word_match = currNode.pop(WORD_KEY, False) # 尝试删除掉结尾标记\n",
    "            if word_match: # 如果存在 说明匹配成功  这时候word_match 就是字符串\n",
    "                matchedWords.append(word_match)\n",
    "            \n",
    "            # Before the EXPLORATION, mark the cell as visited \n",
    "            board[row][col] = '#'\n",
    "            \n",
    "            for (rowOffset, colOffset) in [(-1, 0), (0, 1), (1, 0), (0, -1)]:\n",
    "                newRow, newCol = row + rowOffset, col + colOffset     \n",
    "                if newRow < 0 or newRow >= rowNum or newCol < 0 or newCol >= colNum:\n",
    "                    continue\n",
    "                if not board[newRow][newCol] in currNode:\n",
    "                    continue\n",
    "                backtracking(newRow, newCol, currNode)\n",
    "        \n",
    "            board[row][col] = letter\n",
    "        \n",
    "            if not currNode: # 如果当前是一个空字典 说明是叶子节点 得删掉 避免重复访问\n",
    "                parent.pop(letter)\n",
    "\n",
    "        for row in range(rowNum):\n",
    "            for col in range(colNum):\n",
    "                if board[row][col] in trie:\n",
    "                    backtracking(row, col, trie)        \n",
    "        return matchedWords"
   ]
  },
  {
   "cell_type": "code",
   "execution_count": 2,
   "metadata": {},
   "outputs": [],
   "source": [
    " # 主要是几行建立trie树的代码要学习起来 还有最后那一句剪枝"
   ]
  },
  {
   "cell_type": "code",
   "execution_count": null,
   "metadata": {},
   "outputs": [],
   "source": []
  }
 ],
 "metadata": {
  "kernelspec": {
   "display_name": "Python 3",
   "language": "python",
   "name": "python3"
  },
  "language_info": {
   "codemirror_mode": {
    "name": "ipython",
    "version": 3
   },
   "file_extension": ".py",
   "mimetype": "text/x-python",
   "name": "python",
   "nbconvert_exporter": "python",
   "pygments_lexer": "ipython3",
   "version": "3.8.5"
  }
 },
 "nbformat": 4,
 "nbformat_minor": 4
}
