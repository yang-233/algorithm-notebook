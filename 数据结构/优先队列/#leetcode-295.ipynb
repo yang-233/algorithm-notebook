{
 "cells": [
  {
   "cell_type": "code",
   "execution_count": 1,
   "metadata": {},
   "outputs": [],
   "source": [
    "import heapq\n",
    "class MedianFinder:\n",
    "\n",
    "    def __init__(self):\n",
    "        \"\"\"\n",
    "        initialize your data structure here.\n",
    "        \"\"\"\n",
    "        self.min_heap, self.max_heap = [], []\n",
    "\n",
    "    def addNum(self, num: int) -> None:\n",
    "        heapq.heappush(self.max_heap, -num) # 加入到小半部分的大顶堆中\n",
    "        heapq.heappush(self.min_heap, -self.max_heap[0]) # 把小半部分最大的值移动到大半部分的小顶堆中\n",
    "        heapq.heappop(self.max_heap) # 弹出大顶堆中的最大值\n",
    "        # 经过这样的复杂操作 能够保证 两个堆的性质合法\n",
    "\n",
    "        if len(self.max_heap) < len(self.min_heap): # 保证奇数个数时 一定是大顶堆多一个元素\n",
    "            heapq.heappush(self.max_heap, -self.min_heap[0])\n",
    "            heapq.heappop(self.min_heap)\n",
    "\n",
    "    def findMedian(self) -> float:\n",
    "        return -self.max_heap[0] if len(self.max_heap) > len(self.min_heap) else\\\n",
    "        (-self.max_heap[0] + self.min_heap[0]) / 2\n",
    "\n",
    "# Your MedianFinder object will be instantiated and called as such:\n",
    "# obj = MedianFinder()\n",
    "# obj.addNum(num)\n",
    "# param_2 = obj.findMedian()"
   ]
  },
  {
   "cell_type": "code",
   "execution_count": null,
   "metadata": {},
   "outputs": [],
   "source": []
  }
 ],
 "metadata": {
  "kernelspec": {
   "display_name": "Python 3",
   "language": "python",
   "name": "python3"
  },
  "language_info": {
   "codemirror_mode": {
    "name": "ipython",
    "version": 3
   },
   "file_extension": ".py",
   "mimetype": "text/x-python",
   "name": "python",
   "nbconvert_exporter": "python",
   "pygments_lexer": "ipython3",
   "version": "3.8.3"
  }
 },
 "nbformat": 4,
 "nbformat_minor": 4
}
