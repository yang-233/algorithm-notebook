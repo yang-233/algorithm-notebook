{
 "cells": [
  {
   "cell_type": "code",
   "execution_count": 1,
   "metadata": {},
   "outputs": [],
   "source": [
    "from typing import *\n",
    "import heapq"
   ]
  },
  {
   "cell_type": "code",
   "execution_count": 10,
   "metadata": {},
   "outputs": [],
   "source": [
    "class Solution:\n",
    "    def kthSmallest(self, matrix: List[List[int]], k: int) -> int:\n",
    "        if not matrix:\n",
    "            return None\n",
    "        \n",
    "        class Node:\n",
    "            def __init__(self, val, i, j):\n",
    "                self.val, self.i, self.j = val, i, j\n",
    "            \n",
    "            def __lt__(self, other):\n",
    "                return self.val < other.val\n",
    "\n",
    "        n = len(matrix)\n",
    "        if k > n * n:\n",
    "            return None\n",
    "        \n",
    "        que = []\n",
    "        visited = [[False for _ in range(n + 1)] for __ in range(n + 1)]\n",
    "        for i in range(n + 1):\n",
    "            visited[i][0] = visited[0][i] = True\n",
    "        \n",
    "        heapq.heappush(que, Node(matrix[0][0], 1, 1))\n",
    "        visited[1][1] = True\n",
    "        res = None\n",
    "        while k:\n",
    "            top = que[0]\n",
    "            heapq.heappop(que)\n",
    "            k -= 1\n",
    "            res = top.val\n",
    "            print(res)\n",
    "            ri, rj = top.i, top.j + 1 # 右侧格子\n",
    "            if rj <= n and not visited[ri][rj] and visited[ri - 1][rj]: # 该位置合法 该位置的上侧也已经访问过了\n",
    "                visited[ri][rj] = True\n",
    "                heapq.heappush(que, Node(matrix[ri - 1][rj - 1], ri, rj))\n",
    "                \n",
    "            di, dj = top.i + 1, top.j\n",
    "            if di <= n and not visited[di][dj] and visited[di][dj - 1]: # 该位置合法， 且该位置的左侧也已经访问\n",
    "                visited[di][dj] = True\n",
    "                heapq.heappush(que, Node(matrix[di - 1][dj - 1], di, dj))\n",
    "        \n",
    "        return res\n",
    "            \n",
    "s = Solution()\n"
   ]
  },
  {
   "cell_type": "code",
   "execution_count": 11,
   "metadata": {},
   "outputs": [
    {
     "name": "stdout",
     "output_type": "stream",
     "text": [
      "1\n",
      "3\n",
      "5\n",
      "6\n",
      "7\n",
      "11\n"
     ]
    },
    {
     "data": {
      "text/plain": [
       "11"
      ]
     },
     "execution_count": 11,
     "metadata": {},
     "output_type": "execute_result"
    }
   ],
   "source": [
    "matrix = [[1,3,5],[6,7,12],[11,14,14]]\n",
    "k = 6\n",
    "s.kthSmallest(matrix, k)"
   ]
  },
  {
   "cell_type": "markdown",
   "metadata": {},
   "source": [
    "### 二分法\n",
    "```\n",
    "class Solution {\n",
    "public:\n",
    "    bool check(vector<vector<int>>& matrix, int mid, int k, int n) {\n",
    "        int i = n - 1;\n",
    "        int j = 0;\n",
    "        int num = 0;\n",
    "        while (i >= 0 && j < n) {\n",
    "            if (matrix[i][j] <= mid) {\n",
    "                num += i + 1;\n",
    "                j++;\n",
    "            } else {\n",
    "                i--;\n",
    "            }\n",
    "        }\n",
    "        return num >= k;\n",
    "    }\n",
    "\n",
    "    int kthSmallest(vector<vector<int>>& matrix, int k) {\n",
    "        int n = matrix.size();\n",
    "        int left = matrix[0][0];\n",
    "        int right = matrix[n - 1][n - 1];\n",
    "        while (left < right) {\n",
    "            int mid = left + ((right - left) >> 1);\n",
    "            if (check(matrix, mid, k, n)) {\n",
    "                right = mid;\n",
    "            } else {\n",
    "                left = mid + 1;\n",
    "            }\n",
    "        }\n",
    "        return left;\n",
    "    }\n",
    "};\n",
    "\n",
    "```"
   ]
  },
  {
   "cell_type": "code",
   "execution_count": null,
   "metadata": {},
   "outputs": [],
   "source": []
  }
 ],
 "metadata": {
  "kernelspec": {
   "display_name": "Python 3",
   "language": "python",
   "name": "python3"
  },
  "language_info": {
   "codemirror_mode": {
    "name": "ipython",
    "version": 3
   },
   "file_extension": ".py",
   "mimetype": "text/x-python",
   "name": "python",
   "nbconvert_exporter": "python",
   "pygments_lexer": "ipython3",
   "version": "3.8.3"
  }
 },
 "nbformat": 4,
 "nbformat_minor": 4
}
