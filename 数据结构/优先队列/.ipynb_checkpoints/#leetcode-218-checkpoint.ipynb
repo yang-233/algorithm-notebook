{
 "cells": [
  {
   "cell_type": "code",
   "execution_count": 1,
   "metadata": {},
   "outputs": [],
   "source": [
    "from typing import *\n"
   ]
  },
  {
   "cell_type": "markdown",
   "metadata": {},
   "source": [
    "```\n",
    "class Solution {\n",
    "public:\n",
    "    vector<vector<int>> getSkyline(vector<vector<int>>& buildings) {\n",
    "        vector<pair<int,int>> h;\n",
    "        multiset<int> m;\n",
    "        vector<vector<int>> res;\n",
    "\n",
    "        //1、将每一个建筑分成“两个部分”，例如:[2,9,10]可以转换成[2，-10][9,10]，我们用负值来表示左边界\n",
    "        for(const auto& b:buildings)\n",
    "        {\n",
    "            h.push_back({b[0], -b[2]});\n",
    "            h.push_back({b[1], b[2]});\n",
    "        }\n",
    "\n",
    "        //2、根据x值对分段进行排序\n",
    "        sort(h.begin(),h.end());\n",
    "        int prev = 0, cur = 0;\n",
    "        m.insert(0);\n",
    "\n",
    "        //3、遍历\n",
    "        for (auto i:h)\n",
    "        {\n",
    "            if (i.second < 0) m.insert(-i.second);  //左端点，高度入堆\n",
    "            else m.erase(m.find(i.second));         //右端点，高度出堆\n",
    "            cur = *m.rbegin();                      //当前最大高度高度\n",
    "            if (cur != prev) {                      //当前最大高度不等于最大高度perv表示这是一个转折点\n",
    "                res.push_back({i.first, cur});      //添加坐标\n",
    "                prev = cur;                         //更新最大高度\n",
    "            }\n",
    "        }\n",
    "        return res;\n",
    "    }\n",
    "};\n",
    "```"
   ]
  },
  {
   "cell_type": "code",
   "execution_count": null,
   "metadata": {},
   "outputs": [],
   "source": []
  }
 ],
 "metadata": {
  "kernelspec": {
   "display_name": "Python 3",
   "language": "python",
   "name": "python3"
  },
  "language_info": {
   "codemirror_mode": {
    "name": "ipython",
    "version": 3
   },
   "file_extension": ".py",
   "mimetype": "text/x-python",
   "name": "python",
   "nbconvert_exporter": "python",
   "pygments_lexer": "ipython3",
   "version": "3.8.3"
  }
 },
 "nbformat": 4,
 "nbformat_minor": 4
}
