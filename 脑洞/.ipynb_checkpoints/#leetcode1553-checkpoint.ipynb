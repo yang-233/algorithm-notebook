{
 "cells": [
  {
   "cell_type": "code",
   "execution_count": 1,
   "metadata": {},
   "outputs": [],
   "source": [
    "class Solution:\n",
    "    def minDays(self, n: int) -> int:\n",
    "        self.m = {}\n",
    "        \n",
    "        def dfs(n):\n",
    "            if n <= 1:\n",
    "                return n\n",
    "            if n in self.m:\n",
    "                return self.m[n]\n",
    "            else:\n",
    "                val = min(n % 2 + 1 + dfs(n // 2), n % 3 + 1 + dfs(n // 3))\n",
    "                self.m[n] = val\n",
    "                return val\n",
    "        return dfs(n)"
   ]
  },
  {
   "cell_type": "code",
   "execution_count": null,
   "metadata": {},
   "outputs": [],
   "source": []
  }
 ],
 "metadata": {
  "kernelspec": {
   "display_name": "Python 3",
   "language": "python",
   "name": "python3"
  },
  "language_info": {
   "codemirror_mode": {
    "name": "ipython",
    "version": 3
   },
   "file_extension": ".py",
   "mimetype": "text/x-python",
   "name": "python",
   "nbconvert_exporter": "python",
   "pygments_lexer": "ipython3",
   "version": "3.8.3"
  }
 },
 "nbformat": 4,
 "nbformat_minor": 4
}
