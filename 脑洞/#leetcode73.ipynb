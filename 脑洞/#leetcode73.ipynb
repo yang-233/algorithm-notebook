{
 "cells": [
  {
   "cell_type": "markdown",
   "metadata": {},
   "source": [
    "```\n",
    "class Solution {\n",
    "public:\n",
    "\n",
    "    void setZeroes(vector<vector<int>>& matrix) {\n",
    "        int m = matrix.size();\n",
    "        if(m == 0)\n",
    "            return;\n",
    "        int n = matrix[0].size();\n",
    "        if(n == 0)\n",
    "            return;\n",
    "        const int INF = 1e9 + 7;\n",
    "        if(matrix[0][0] == 0) // 第一行和第一列都需要置0\n",
    "            matrix[0][0] = 2 * INF;\n",
    "        else {\n",
    "            for(int i = 1; i < m; i++) // 检查第一列是否需要置0\n",
    "                if(matrix[i][0] == 0) {\n",
    "                    matrix[0][0] = INF;// 第一列置0\n",
    "                    break;\n",
    "                }\n",
    "            for(int j = 1; j < n; j++) // 检查第一行是否需要置0 \n",
    "                if(matrix[0][j] == 0) {\n",
    "                    if(matrix[0][0] == INF)\n",
    "                        matrix[0][0] = 2 * INF; // 第一行第一列都要置0\n",
    "                    else\n",
    "                        matrix[0][0] = -INF; // 第一行置0\n",
    "                    break;\n",
    "                }\n",
    "        }\n",
    "        for(int i = 1; i < m; i++) {\n",
    "            for(int j = 1; j < n; j++) { // 第i行 和 第j 列置0\n",
    "                if(matrix[i][j] == 0)\n",
    "                    matrix[i][0] = matrix[0][j] = 0;\n",
    "            }\n",
    "        }\n",
    "        for(int i = 1; i < m; i++) { // 检查哪些行需要置0\n",
    "            if(matrix[i][0] == 0) {\n",
    "                for(int j = 1; j < n; j++) // 第i行置0\n",
    "                    matrix[i][j] = 0;\n",
    "            }\n",
    "        }\n",
    "        for(int j = 1; j < n; j++) { // 检查哪些列需要置0\n",
    "            if(matrix[0][j] == 0) {\n",
    "                for(int i = 1; i < m; i++)\n",
    "                    matrix[i][j] = 0;\n",
    "            }\n",
    "        }\n",
    "        if(matrix[0][0] == INF) {\n",
    "            for(int i = 0; i < m; i++) // 第一列置0\n",
    "                matrix[i][0] = 0;\n",
    "        } else {\n",
    "            if(matrix[0][0] == 2 * INF) {\n",
    "                for(int i = 0; i < m; i++) // 第一列置0\n",
    "                    matrix[i][0] = 0;\n",
    "                for(int j = 0; j < n; j++)// 第一行置0\n",
    "                    matrix[0][j] = 0;\n",
    "            }\n",
    "            else {\n",
    "                if(matrix[0][0] == -INF) { // 第一行置0\n",
    "                    for(int j = 0; j < n; j++)\n",
    "                    matrix[0][j] = 0;\n",
    "                }\n",
    "            }\n",
    "        }\n",
    "    }\n",
    "};\n",
    "```"
   ]
  },
  {
   "cell_type": "markdown",
   "metadata": {},
   "source": [
    "# 不能用额外的空间 因此 那些被置为0的位置可以拿来利用"
   ]
  },
  {
   "cell_type": "code",
   "execution_count": 1,
   "metadata": {},
   "outputs": [
    {
     "data": {
      "text/plain": [
       "\u001b[0;31mInit signature:\u001b[0m \u001b[0mmap\u001b[0m\u001b[0;34m(\u001b[0m\u001b[0mself\u001b[0m\u001b[0;34m,\u001b[0m \u001b[0;34m/\u001b[0m\u001b[0;34m,\u001b[0m \u001b[0;34m*\u001b[0m\u001b[0margs\u001b[0m\u001b[0;34m,\u001b[0m \u001b[0;34m**\u001b[0m\u001b[0mkwargs\u001b[0m\u001b[0;34m)\u001b[0m\u001b[0;34m\u001b[0m\u001b[0;34m\u001b[0m\u001b[0m\n",
       "\u001b[0;31mDocstring:\u001b[0m     \n",
       "map(func, *iterables) --> map object\n",
       "\n",
       "Make an iterator that computes the function using arguments from\n",
       "each of the iterables.  Stops when the shortest iterable is exhausted.\n",
       "\u001b[0;31mType:\u001b[0m           type\n",
       "\u001b[0;31mSubclasses:\u001b[0m     \n"
      ]
     },
     "metadata": {},
     "output_type": "display_data"
    }
   ],
   "source": [
    "map?"
   ]
  },
  {
   "cell_type": "code",
   "execution_count": 2,
   "metadata": {},
   "outputs": [
    {
     "data": {
      "text/plain": [
       "'adsa'"
      ]
     },
     "execution_count": 2,
     "metadata": {},
     "output_type": "execute_result"
    }
   ],
   "source": [
    "a = \"asda\"\n",
    "a[::-1]"
   ]
  },
  {
   "cell_type": "code",
   "execution_count": null,
   "metadata": {},
   "outputs": [],
   "source": []
  }
 ],
 "metadata": {
  "kernelspec": {
   "display_name": "Python 3",
   "language": "python",
   "name": "python3"
  },
  "language_info": {
   "codemirror_mode": {
    "name": "ipython",
    "version": 3
   },
   "file_extension": ".py",
   "mimetype": "text/x-python",
   "name": "python",
   "nbconvert_exporter": "python",
   "pygments_lexer": "ipython3",
   "version": "3.8.5"
  }
 },
 "nbformat": 4,
 "nbformat_minor": 4
}
