{
 "cells": [
  {
   "cell_type": "code",
   "execution_count": 1,
   "metadata": {},
   "outputs": [],
   "source": [
    "from typing import *\n",
    "from random import randint"
   ]
  },
  {
   "cell_type": "code",
   "execution_count": 30,
   "metadata": {},
   "outputs": [],
   "source": [
    "def partition_v1(a, l, r):\n",
    "    key = a[l]\n",
    "    i = l\n",
    "    for j in range(l + 1, r + 1):\n",
    "        if a[j] <= key:\n",
    "            i += 1\n",
    "            if i != j:\n",
    "                a[i], a[j] = a[j], a[i]\n",
    "    a[l], a[i] = a[i], a[l]\n",
    "    return i"
   ]
  },
  {
   "cell_type": "code",
   "execution_count": 31,
   "metadata": {},
   "outputs": [],
   "source": [
    "def quick_sort_v1(a, l, r):\n",
    "    st = [(l, r)]\n",
    "    while st:\n",
    "        l, r = st[-1]\n",
    "        st.pop()\n",
    "        if l >= r:\n",
    "            continue\n",
    "        idx = partition_v1(a, l, r)\n",
    "        st.append((l, idx - 1))\n",
    "        st.append((idx + 1, r))\n",
    "    return a"
   ]
  },
  {
   "cell_type": "code",
   "execution_count": 32,
   "metadata": {},
   "outputs": [
    {
     "data": {
      "text/plain": [
       "[2, 3, 4, 5, 5, 6, 9]"
      ]
     },
     "execution_count": 32,
     "metadata": {},
     "output_type": "execute_result"
    }
   ],
   "source": [
    "a = [5, 2, 5, 3, 6, 4, 9]\n",
    "quick_sort_v1(a, 0, len(a) - 1)\n",
    "a"
   ]
  },
  {
   "cell_type": "code",
   "execution_count": 33,
   "metadata": {},
   "outputs": [],
   "source": [
    "def partition_v2(a, l, r):\n",
    "    key = a[l]\n",
    "    while l < r:\n",
    "        while l < r and a[r] >= key:\n",
    "            r -= 1\n",
    "        if l < r:\n",
    "            a[l] = a[r]\n",
    "        while l < r and a[l] <= key:\n",
    "            l += 1\n",
    "        if l < r:\n",
    "            a[r] = a[l]\n",
    "    a[l] = key\n",
    "    return l\n",
    "def quick_sort_v2(a, l, r):\n",
    "    st = [(l, r)]\n",
    "    while st:\n",
    "        l, r = st[-1]\n",
    "        st.pop()\n",
    "        if l >= r:\n",
    "            continue\n",
    "        idx = partition_v2(a, l, r)\n",
    "        st.append((l, idx - 1))\n",
    "        st.append((idx + 1, r))\n",
    "    return a"
   ]
  },
  {
   "cell_type": "code",
   "execution_count": 34,
   "metadata": {},
   "outputs": [
    {
     "data": {
      "text/plain": [
       "[2, 3, 4, 5, 5, 6, 9]"
      ]
     },
     "execution_count": 34,
     "metadata": {},
     "output_type": "execute_result"
    }
   ],
   "source": [
    "a = [5, 2, 5, 3, 6, 4, 9]\n",
    "quick_sort_v2(a, 0, len(a) - 1)\n",
    "a"
   ]
  },
  {
   "cell_type": "code",
   "execution_count": 14,
   "metadata": {},
   "outputs": [],
   "source": [
    "def partition_v3(a:list, l:int, r:int):\n",
    "    key = a[l]\n",
    "    lt = l # [l, lt-1] < key\n",
    "    gt = r # [gt+1, r] > key\n",
    "    i = l + 1 # [lt+1, i] == key\n",
    "    while i <= gt:\n",
    "        if a[i] < key:\n",
    "            a[i], a[lt] = a[lt], a[i]\n",
    "            lt += 1\n",
    "            i += 1\n",
    "        elif a[i] > key:\n",
    "            a[i], a[gt] = a[gt], a[i]\n",
    "            gt -= 1\n",
    "        else: # a[i] == key\n",
    "            i += 1\n",
    "    return lt, gt\n",
    "\n",
    "# partition_v3(a, 0, 6)"
   ]
  },
  {
   "cell_type": "code",
   "execution_count": 28,
   "metadata": {},
   "outputs": [],
   "source": [
    "def quick_sort_v3(a, l, r):\n",
    "    st = [(l, r)]\n",
    "    while st:\n",
    "        l, r = st[-1]\n",
    "        st.pop()\n",
    "        if l >= r:\n",
    "            continue\n",
    "        lt, gt = partition_v3(a, l, r)\n",
    "        st.append((l, lt - 1))\n",
    "        st.append((gt + 1, r))\n",
    "    return a"
   ]
  },
  {
   "cell_type": "code",
   "execution_count": 29,
   "metadata": {},
   "outputs": [
    {
     "data": {
      "text/plain": [
       "[2, 3, 4, 5, 5, 6, 9]"
      ]
     },
     "execution_count": 29,
     "metadata": {},
     "output_type": "execute_result"
    }
   ],
   "source": [
    "a = [5, 2, 5, 3, 6, 4, 9]\n",
    "quick_sort_v3(a, 0, len(a) - 1)\n",
    "a"
   ]
  }
 ],
 "metadata": {
  "kernelspec": {
   "display_name": "Python 3",
   "language": "python",
   "name": "python3"
  },
  "language_info": {
   "codemirror_mode": {
    "name": "ipython",
    "version": 3
   },
   "file_extension": ".py",
   "mimetype": "text/x-python",
   "name": "python",
   "nbconvert_exporter": "python",
   "pygments_lexer": "ipython3",
   "version": "3.8.3"
  }
 },
 "nbformat": 4,
 "nbformat_minor": 4
}
