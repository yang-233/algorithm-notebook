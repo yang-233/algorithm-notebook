{
 "cells": [
  {
   "cell_type": "markdown",
   "metadata": {},
   "source": [
    "```\n",
    "bool cmp(const string& a, const string& b) {\n",
    "    int len = a.size() + b.size();\n",
    "    string _a = a + b, _b = b + a;\n",
    "    for(int i = 0; i < len; i++) {\n",
    "        int a_val = _a[i] - '0', b_val = _b[i] - '0';\n",
    "        if(_a == _b)\n",
    "            continue;\n",
    "        return _a > _b;\n",
    "    }\n",
    "    return true;\n",
    "}\n",
    "class Solution {\n",
    "public:\n",
    "\n",
    "    string largestNumber(vector<int>& nums) {\n",
    "        vector<string> s_nums;\n",
    "        string res = \"\";\n",
    "        bool all_zero = true;\n",
    "        for(auto i : nums) {\n",
    "            s_nums.push_back(to_string(i));\n",
    "            if(i)\n",
    "                all_zero = false;\n",
    "        }\n",
    "        if(all_zero)\n",
    "            return \"0\";\n",
    "        sort(s_nums.begin(), s_nums.end(), cmp);\n",
    "        for(auto i : s_nums)\n",
    "            res += i;\n",
    "        int idx = 0, n = res.size();\n",
    "        while(idx < n && res[idx] == '0')idx++;\n",
    "        return res;\n",
    "    }\n",
    "};\n",
    "```"
   ]
  },
  {
   "cell_type": "code",
   "execution_count": 1,
   "metadata": {},
   "outputs": [],
   "source": [
    "# 贪心好想 但是这个比较算法难想 还有就是这个边界处理"
   ]
  },
  {
   "cell_type": "code",
   "execution_count": null,
   "metadata": {},
   "outputs": [],
   "source": []
  }
 ],
 "metadata": {
  "kernelspec": {
   "display_name": "Python 3",
   "language": "python",
   "name": "python3"
  },
  "language_info": {
   "codemirror_mode": {
    "name": "ipython",
    "version": 3
   },
   "file_extension": ".py",
   "mimetype": "text/x-python",
   "name": "python",
   "nbconvert_exporter": "python",
   "pygments_lexer": "ipython3",
   "version": "3.8.5"
  }
 },
 "nbformat": 4,
 "nbformat_minor": 4
}
